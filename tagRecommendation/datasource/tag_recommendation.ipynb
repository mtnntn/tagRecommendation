{
 "cells": [
  {
   "cell_type": "code",
   "execution_count": 2,
   "metadata": {},
   "outputs": [
    {
     "name": "stderr",
     "output_type": "stream",
     "text": [
      "Using TensorFlow backend.\n"
     ]
    }
   ],
   "source": [
    "import pandas as pd\n",
    "import numpy as np\n",
    "from gensim.models import KeyedVectors\n",
    "from keras.preprocessing.sequence import pad_sequences\n",
    "from keras.layers import Dense, Input, LSTM, Embedding\n",
    "from keras.models import Model\n",
    "\n",
    "__articles_path = \"raw_data/citeulike-a/raw-data.csv\"\n",
    "__tags_path = \"raw_data/citeulike-a/tags.dat\"\n",
    "__articles_tags_path = \"raw_data/citeulike-a/item-tag.dat\"\n",
    "__vocabulary_path = \"raw_data/citeulike-a/vocabulary.dat\"\n",
    "__gloove_w2v_path = \"raw_data/glove/glove_840B_w2v.txt\""
   ]
  },
  {
   "cell_type": "markdown",
   "metadata": {},
   "source": [
    "# Project Aim:\n",
    "\n",
    "The aim of the project is to understand how deep learning methods can be adapted in a text-based multi-label classification problem and how the developed system performs over the classical methods. \n",
    "\n",
    "## Dataset\n",
    "\n",
    "The original dataset was provided by Cite-u-Like. The following files were available:\n",
    "\n",
    "- `tags.dat`:  tags, sorted by tag-id's\n",
    "- `item-tag.dat`:  tags corresponding to articles: line=article_id, values: tag associated to the article_id\n",
    "- `raw-data.csv`: articles:\n",
    "    - \"doc.id\"      : article's id (correspond to a line in the item-tag.dat file)\n",
    "    - \"title\"       : title of the article\n",
    "    - \"citeulike.id\": cite-u-like article's id\n",
    "    - \"raw.title\"   : article's title\n",
    "    - \"raw.abstract\": article's abstract\n",
    "\n",
    "## Step 1: \n",
    "\n",
    "The first step of the work was the extraction of the 20 tag with higest frequency.\n",
    "The variable `TOP_N_TAGS` represent the number of tags that we are going to analyze. \n",
    "To each tag was assigned an id in the range [0-TOP_N_TAG].\n",
    "\n",
    "The following steps were performed in order to identify the TOP_N tags."
   ]
  },
  {
   "cell_type": "code",
   "execution_count": 3,
   "metadata": {},
   "outputs": [],
   "source": [
    "TOP_N_TAGS = 20"
   ]
  },
  {
   "cell_type": "code",
   "execution_count": 4,
   "metadata": {},
   "outputs": [],
   "source": [
    "tags = pd.read_csv(__tags_path, header=None, names=[\"tag_name\"])"
   ]
  },
  {
   "cell_type": "code",
   "execution_count": 5,
   "metadata": {},
   "outputs": [],
   "source": [
    "tags.insert(0, \"tag_id\", np.arange(0, len(tags)))"
   ]
  },
  {
   "cell_type": "code",
   "execution_count": 6,
   "metadata": {},
   "outputs": [],
   "source": [
    "tags.insert(2, \"tag_frequency\", np.zeros(len(tags), dtype=int))"
   ]
  },
  {
   "cell_type": "code",
   "execution_count": 7,
   "metadata": {},
   "outputs": [
    {
     "data": {
      "text/html": [
       "<div>\n",
       "<style scoped>\n",
       "    .dataframe tbody tr th:only-of-type {\n",
       "        vertical-align: middle;\n",
       "    }\n",
       "\n",
       "    .dataframe tbody tr th {\n",
       "        vertical-align: top;\n",
       "    }\n",
       "\n",
       "    .dataframe thead th {\n",
       "        text-align: right;\n",
       "    }\n",
       "</style>\n",
       "<table border=\"1\" class=\"dataframe\">\n",
       "  <thead>\n",
       "    <tr style=\"text-align: right;\">\n",
       "      <th></th>\n",
       "      <th>tag_id</th>\n",
       "      <th>tag_name</th>\n",
       "      <th>tag_frequency</th>\n",
       "      <th>tag_document_list</th>\n",
       "    </tr>\n",
       "  </thead>\n",
       "  <tbody>\n",
       "    <tr>\n",
       "      <th>0</th>\n",
       "      <td>0</td>\n",
       "      <td>ucsc-browser</td>\n",
       "      <td>0</td>\n",
       "      <td></td>\n",
       "    </tr>\n",
       "  </tbody>\n",
       "</table>\n",
       "</div>"
      ],
      "text/plain": [
       "   tag_id      tag_name  tag_frequency tag_document_list\n",
       "0       0  ucsc-browser              0                  "
      ]
     },
     "execution_count": 7,
     "metadata": {},
     "output_type": "execute_result"
    }
   ],
   "source": [
    "tags.insert(3, \"tag_document_list\", \"\")\n",
    "\n",
    "tags.head(1)"
   ]
  },
  {
   "cell_type": "code",
   "execution_count": 8,
   "metadata": {},
   "outputs": [
    {
     "data": {
      "text/html": [
       "<div>\n",
       "<style scoped>\n",
       "    .dataframe tbody tr th:only-of-type {\n",
       "        vertical-align: middle;\n",
       "    }\n",
       "\n",
       "    .dataframe tbody tr th {\n",
       "        vertical-align: top;\n",
       "    }\n",
       "\n",
       "    .dataframe thead th {\n",
       "        text-align: right;\n",
       "    }\n",
       "</style>\n",
       "<table border=\"1\" class=\"dataframe\">\n",
       "  <thead>\n",
       "    <tr style=\"text-align: right;\">\n",
       "      <th></th>\n",
       "      <th>tag_list</th>\n",
       "    </tr>\n",
       "  </thead>\n",
       "  <tbody>\n",
       "    <tr>\n",
       "      <th>0</th>\n",
       "      <td>17 4276 32443 37837 3378 7650 44590 42810 2881...</td>\n",
       "    </tr>\n",
       "  </tbody>\n",
       "</table>\n",
       "</div>"
      ],
      "text/plain": [
       "                                            tag_list\n",
       "0  17 4276 32443 37837 3378 7650 44590 42810 2881..."
      ]
     },
     "execution_count": 8,
     "metadata": {},
     "output_type": "execute_result"
    }
   ],
   "source": [
    "articles_tags = pd.read_csv(__articles_tags_path, header=None, names=[\"tag_list\"])\n",
    "\n",
    "articles_tags.head(1)"
   ]
  },
  {
   "cell_type": "code",
   "execution_count": 9,
   "metadata": {},
   "outputs": [],
   "source": [
    "# Compute the frequency of each tag and the list of document \n",
    "for idx, tag_list in articles_tags.itertuples():\n",
    "    doc_id = idx + 1\n",
    "    tags_for_doc = tag_list.split(\" \")\n",
    "    tags_for_doc = tags_for_doc[1:] # The first number indicates how many tags we have for the document.\n",
    "    for tag_id in tags_for_doc:\n",
    "        tag_id = int(tag_id)\n",
    "        tags.at[tag_id, \"tag_frequency\"] += 1\n",
    "        tags.at[tag_id, \"tag_document_list\"] += str(doc_id)+\"|\""
   ]
  },
  {
   "cell_type": "code",
   "execution_count": 10,
   "metadata": {},
   "outputs": [
    {
     "data": {
      "text/html": [
       "<div>\n",
       "<style scoped>\n",
       "    .dataframe tbody tr th:only-of-type {\n",
       "        vertical-align: middle;\n",
       "    }\n",
       "\n",
       "    .dataframe tbody tr th {\n",
       "        vertical-align: top;\n",
       "    }\n",
       "\n",
       "    .dataframe thead th {\n",
       "        text-align: right;\n",
       "    }\n",
       "</style>\n",
       "<table border=\"1\" class=\"dataframe\">\n",
       "  <thead>\n",
       "    <tr style=\"text-align: right;\">\n",
       "      <th></th>\n",
       "      <th>tag_id</th>\n",
       "      <th>tag_name</th>\n",
       "      <th>tag_frequency</th>\n",
       "      <th>tag_document_list</th>\n",
       "    </tr>\n",
       "  </thead>\n",
       "  <tbody>\n",
       "    <tr>\n",
       "      <th>0</th>\n",
       "      <td>0</td>\n",
       "      <td>ucsc-browser</td>\n",
       "      <td>2</td>\n",
       "      <td>14123|14388|</td>\n",
       "    </tr>\n",
       "    <tr>\n",
       "      <th>1</th>\n",
       "      <td>1</td>\n",
       "      <td>rr_interval</td>\n",
       "      <td>1</td>\n",
       "      <td>5192|</td>\n",
       "    </tr>\n",
       "  </tbody>\n",
       "</table>\n",
       "</div>"
      ],
      "text/plain": [
       "   tag_id      tag_name  tag_frequency tag_document_list\n",
       "0       0  ucsc-browser              2      14123|14388|\n",
       "1       1   rr_interval              1             5192|"
      ]
     },
     "execution_count": 10,
     "metadata": {},
     "output_type": "execute_result"
    }
   ],
   "source": [
    "tags.head(2)"
   ]
  },
  {
   "cell_type": "code",
   "execution_count": 11,
   "metadata": {},
   "outputs": [],
   "source": [
    "# Retrieve the TOP_N_TAG \n",
    "\n",
    "top_n_tags = tags.nlargest(TOP_N_TAGS, 'tag_frequency')"
   ]
  },
  {
   "cell_type": "code",
   "execution_count": 12,
   "metadata": {},
   "outputs": [],
   "source": [
    "# Assign a new id to the extracted TOP_N_TAGS tags.\n",
    "\n",
    "top_n_tags.insert(1, \"tag_new_id\", np.arange(0, TOP_N_TAGS))"
   ]
  },
  {
   "cell_type": "code",
   "execution_count": 13,
   "metadata": {},
   "outputs": [
    {
     "data": {
      "text/html": [
       "<div>\n",
       "<style scoped>\n",
       "    .dataframe tbody tr th:only-of-type {\n",
       "        vertical-align: middle;\n",
       "    }\n",
       "\n",
       "    .dataframe tbody tr th {\n",
       "        vertical-align: top;\n",
       "    }\n",
       "\n",
       "    .dataframe thead th {\n",
       "        text-align: right;\n",
       "    }\n",
       "</style>\n",
       "<table border=\"1\" class=\"dataframe\">\n",
       "  <thead>\n",
       "    <tr style=\"text-align: right;\">\n",
       "      <th></th>\n",
       "      <th>tag_id</th>\n",
       "      <th>tag_new_id</th>\n",
       "      <th>tag_name</th>\n",
       "      <th>tag_frequency</th>\n",
       "      <th>tag_document_list</th>\n",
       "    </tr>\n",
       "  </thead>\n",
       "  <tbody>\n",
       "    <tr>\n",
       "      <th>44590</th>\n",
       "      <td>44590</td>\n",
       "      <td>0</td>\n",
       "      <td>review</td>\n",
       "      <td>1735</td>\n",
       "      <td>1|2|3|4|10|11|29|39|43|44|48|50|55|57|61|62|10...</td>\n",
       "    </tr>\n",
       "    <tr>\n",
       "      <th>1540</th>\n",
       "      <td>1540</td>\n",
       "      <td>1</td>\n",
       "      <td>bioinformatics</td>\n",
       "      <td>1522</td>\n",
       "      <td>4|16|37|40|42|43|48|51|58|66|99|129|130|131|20...</td>\n",
       "    </tr>\n",
       "    <tr>\n",
       "      <th>37837</th>\n",
       "      <td>37837</td>\n",
       "      <td>2</td>\n",
       "      <td>network</td>\n",
       "      <td>1391</td>\n",
       "      <td>1|2|3|4|5|6|7|8|9|11|12|13|14|16|18|20|23|24|2...</td>\n",
       "    </tr>\n",
       "    <tr>\n",
       "      <th>16833</th>\n",
       "      <td>16833</td>\n",
       "      <td>3</td>\n",
       "      <td>evolution</td>\n",
       "      <td>1373</td>\n",
       "      <td>2|9|37|44|51|95|99|117|172|209|230|246|253|270...</td>\n",
       "    </tr>\n",
       "    <tr>\n",
       "      <th>30698</th>\n",
       "      <td>30698</td>\n",
       "      <td>4</td>\n",
       "      <td>networks</td>\n",
       "      <td>1200</td>\n",
       "      <td>1|2|3|4|5|6|8|10|11|12|13|14|15|16|18|19|20|21...</td>\n",
       "    </tr>\n",
       "    <tr>\n",
       "      <th>25906</th>\n",
       "      <td>25906</td>\n",
       "      <td>5</td>\n",
       "      <td>software</td>\n",
       "      <td>1015</td>\n",
       "      <td>9|42|45|99|121|136|181|201|212|222|231|256|429...</td>\n",
       "    </tr>\n",
       "    <tr>\n",
       "      <th>31876</th>\n",
       "      <td>31876</td>\n",
       "      <td>6</td>\n",
       "      <td>genomics</td>\n",
       "      <td>993</td>\n",
       "      <td>9|16|21|43|48|57|58|66|205|206|462|494|498|513...</td>\n",
       "    </tr>\n",
       "    <tr>\n",
       "      <th>28131</th>\n",
       "      <td>28131</td>\n",
       "      <td>7</td>\n",
       "      <td>genome</td>\n",
       "      <td>805</td>\n",
       "      <td>9|27|37|51|205|206|209|270|472|622|674|686|694...</td>\n",
       "    </tr>\n",
       "    <tr>\n",
       "      <th>39682</th>\n",
       "      <td>39682</td>\n",
       "      <td>8</td>\n",
       "      <td>statistics</td>\n",
       "      <td>755</td>\n",
       "      <td>3|4|10|16|28|53|78|98|104|105|152|201|271|277|...</td>\n",
       "    </tr>\n",
       "    <tr>\n",
       "      <th>45441</th>\n",
       "      <td>45441</td>\n",
       "      <td>9</td>\n",
       "      <td>analysis</td>\n",
       "      <td>740</td>\n",
       "      <td>5|6|16|17|28|45|53|58|66|101|141|143|205|227|2...</td>\n",
       "    </tr>\n",
       "    <tr>\n",
       "      <th>1934</th>\n",
       "      <td>1934</td>\n",
       "      <td>10</td>\n",
       "      <td>methods</td>\n",
       "      <td>708</td>\n",
       "      <td>11|57|78|105|143|211|251|429|476|486|521|620|6...</td>\n",
       "    </tr>\n",
       "    <tr>\n",
       "      <th>34723</th>\n",
       "      <td>34723</td>\n",
       "      <td>11</td>\n",
       "      <td>theory</td>\n",
       "      <td>695</td>\n",
       "      <td>5|12|16|29|43|57|75|90|98|120|162|180|181|185|...</td>\n",
       "    </tr>\n",
       "    <tr>\n",
       "      <th>6861</th>\n",
       "      <td>6861</td>\n",
       "      <td>12</td>\n",
       "      <td>protein</td>\n",
       "      <td>693</td>\n",
       "      <td>4|16|27|41|54|82|99|130|205|211|246|251|255|27...</td>\n",
       "    </tr>\n",
       "    <tr>\n",
       "      <th>20309</th>\n",
       "      <td>20309</td>\n",
       "      <td>13</td>\n",
       "      <td>thesis</td>\n",
       "      <td>683</td>\n",
       "      <td>4|5|11|21|29|37|57|63|77|83|99|121|136|142|143...</td>\n",
       "    </tr>\n",
       "    <tr>\n",
       "      <th>21404</th>\n",
       "      <td>21404</td>\n",
       "      <td>14</td>\n",
       "      <td>model</td>\n",
       "      <td>680</td>\n",
       "      <td>2|5|8|30|54|59|63|72|73|77|94|133|170|201|205|...</td>\n",
       "    </tr>\n",
       "    <tr>\n",
       "      <th>29430</th>\n",
       "      <td>29430</td>\n",
       "      <td>15</td>\n",
       "      <td>human</td>\n",
       "      <td>654</td>\n",
       "      <td>10|11|94|460|562|585|611|612|639|640|670|739|7...</td>\n",
       "    </tr>\n",
       "    <tr>\n",
       "      <th>30120</th>\n",
       "      <td>30120</td>\n",
       "      <td>16</td>\n",
       "      <td>expression</td>\n",
       "      <td>649</td>\n",
       "      <td>21|51|58|105|129|130|131|205|206|211|427|493|5...</td>\n",
       "    </tr>\n",
       "    <tr>\n",
       "      <th>36185</th>\n",
       "      <td>36185</td>\n",
       "      <td>17</td>\n",
       "      <td>social</td>\n",
       "      <td>640</td>\n",
       "      <td>5|23|28|29|34|45|67|72|94|121|433|444|448|478|...</td>\n",
       "    </tr>\n",
       "    <tr>\n",
       "      <th>2061</th>\n",
       "      <td>2061</td>\n",
       "      <td>18</td>\n",
       "      <td>algorithm</td>\n",
       "      <td>620</td>\n",
       "      <td>5|17|18|28|29|54|99|119|133|227|237|248|250|28...</td>\n",
       "    </tr>\n",
       "    <tr>\n",
       "      <th>38780</th>\n",
       "      <td>38780</td>\n",
       "      <td>19</td>\n",
       "      <td>learning</td>\n",
       "      <td>578</td>\n",
       "      <td>10|54|97|163|164|169|191|196|199|200|424|458|5...</td>\n",
       "    </tr>\n",
       "  </tbody>\n",
       "</table>\n",
       "</div>"
      ],
      "text/plain": [
       "       tag_id  tag_new_id        tag_name  tag_frequency  \\\n",
       "44590   44590           0          review           1735   \n",
       "1540     1540           1  bioinformatics           1522   \n",
       "37837   37837           2         network           1391   \n",
       "16833   16833           3       evolution           1373   \n",
       "30698   30698           4        networks           1200   \n",
       "25906   25906           5        software           1015   \n",
       "31876   31876           6        genomics            993   \n",
       "28131   28131           7          genome            805   \n",
       "39682   39682           8      statistics            755   \n",
       "45441   45441           9        analysis            740   \n",
       "1934     1934          10         methods            708   \n",
       "34723   34723          11          theory            695   \n",
       "6861     6861          12         protein            693   \n",
       "20309   20309          13          thesis            683   \n",
       "21404   21404          14           model            680   \n",
       "29430   29430          15           human            654   \n",
       "30120   30120          16      expression            649   \n",
       "36185   36185          17          social            640   \n",
       "2061     2061          18       algorithm            620   \n",
       "38780   38780          19        learning            578   \n",
       "\n",
       "                                       tag_document_list  \n",
       "44590  1|2|3|4|10|11|29|39|43|44|48|50|55|57|61|62|10...  \n",
       "1540   4|16|37|40|42|43|48|51|58|66|99|129|130|131|20...  \n",
       "37837  1|2|3|4|5|6|7|8|9|11|12|13|14|16|18|20|23|24|2...  \n",
       "16833  2|9|37|44|51|95|99|117|172|209|230|246|253|270...  \n",
       "30698  1|2|3|4|5|6|8|10|11|12|13|14|15|16|18|19|20|21...  \n",
       "25906  9|42|45|99|121|136|181|201|212|222|231|256|429...  \n",
       "31876  9|16|21|43|48|57|58|66|205|206|462|494|498|513...  \n",
       "28131  9|27|37|51|205|206|209|270|472|622|674|686|694...  \n",
       "39682  3|4|10|16|28|53|78|98|104|105|152|201|271|277|...  \n",
       "45441  5|6|16|17|28|45|53|58|66|101|141|143|205|227|2...  \n",
       "1934   11|57|78|105|143|211|251|429|476|486|521|620|6...  \n",
       "34723  5|12|16|29|43|57|75|90|98|120|162|180|181|185|...  \n",
       "6861   4|16|27|41|54|82|99|130|205|211|246|251|255|27...  \n",
       "20309  4|5|11|21|29|37|57|63|77|83|99|121|136|142|143...  \n",
       "21404  2|5|8|30|54|59|63|72|73|77|94|133|170|201|205|...  \n",
       "29430  10|11|94|460|562|585|611|612|639|640|670|739|7...  \n",
       "30120  21|51|58|105|129|130|131|205|206|211|427|493|5...  \n",
       "36185  5|23|28|29|34|45|67|72|94|121|433|444|448|478|...  \n",
       "2061   5|17|18|28|29|54|99|119|133|227|237|248|250|28...  \n",
       "38780  10|54|97|163|164|169|191|196|199|200|424|458|5...  "
      ]
     },
     "execution_count": 13,
     "metadata": {},
     "output_type": "execute_result"
    }
   ],
   "source": [
    "top_n_tags.head(20)"
   ]
  },
  {
   "cell_type": "markdown",
   "metadata": {},
   "source": [
    "## Step 2 \n",
    "\n",
    "The aim of the second step is to identify and retrieve the articles that were tagged with at least one of the TOP_N_TAGS identified in the previous phase.\n",
    "\n",
    "In this phase was also assigned an \"y_true\" vector to each article identified.\n",
    "This vector is an array that contains 1 in the i-th position if the article was tagged with the tag that has id `i`, 0 otherwise.\n",
    "\n",
    "<!--\n",
    "> Estraggo gli articoli con i top-20 tag\n",
    "\n",
    "> Ad ogni documento associo un vettore [0-19] in modo che alla posizione i-esima è associato uno se al documento è associato il tag con id i\n",
    "  (Questa cosetta qui rappresenta l'uscita della mia rete, dato che devo fare classificazione multi-label)\n",
    "-->"
   ]
  },
  {
   "cell_type": "code",
   "execution_count": 14,
   "metadata": {},
   "outputs": [],
   "source": [
    "# Get the list of documents that are associated with at least one of the TOP_N_TAGS tags.\n",
    "\n",
    "doc_ids_from_best_tags = list(map(lambda tdl: [int(d_id) for d_id in tdl.split(\"|\") if d_id != \"\"], top_n_tags[\"tag_document_list\"].tolist()))\n",
    "doc_ids_from_best_tags = list(set(doc_id for doc_ids_list in doc_ids_from_best_tags for doc_id in doc_ids_list ))"
   ]
  },
  {
   "cell_type": "code",
   "execution_count": 15,
   "metadata": {},
   "outputs": [
    {
     "name": "stdout",
     "output_type": "stream",
     "text": [
      "8386\n"
     ]
    }
   ],
   "source": [
    "print(len(doc_ids_from_best_tags))"
   ]
  },
  {
   "cell_type": "code",
   "execution_count": 16,
   "metadata": {},
   "outputs": [],
   "source": [
    "articles = pd.read_csv(__articles_path, encoding=\"iso-8859-15\")"
   ]
  },
  {
   "cell_type": "code",
   "execution_count": 17,
   "metadata": {},
   "outputs": [
    {
     "data": {
      "text/html": [
       "<div>\n",
       "<style scoped>\n",
       "    .dataframe tbody tr th:only-of-type {\n",
       "        vertical-align: middle;\n",
       "    }\n",
       "\n",
       "    .dataframe tbody tr th {\n",
       "        vertical-align: top;\n",
       "    }\n",
       "\n",
       "    .dataframe thead th {\n",
       "        text-align: right;\n",
       "    }\n",
       "</style>\n",
       "<table border=\"1\" class=\"dataframe\">\n",
       "  <thead>\n",
       "    <tr style=\"text-align: right;\">\n",
       "      <th></th>\n",
       "      <th>doc.id</th>\n",
       "      <th>title</th>\n",
       "      <th>citeulike.id</th>\n",
       "      <th>raw.title</th>\n",
       "      <th>raw.abstract</th>\n",
       "    </tr>\n",
       "  </thead>\n",
       "  <tbody>\n",
       "    <tr>\n",
       "      <th>0</th>\n",
       "      <td>1</td>\n",
       "      <td>the metabolic world of escherichia coli is not...</td>\n",
       "      <td>42.0</td>\n",
       "      <td>The metabolic world of Escherichia coli is not...</td>\n",
       "      <td>To elucidate the organizational and evolutiona...</td>\n",
       "    </tr>\n",
       "  </tbody>\n",
       "</table>\n",
       "</div>"
      ],
      "text/plain": [
       "   doc.id                                              title  citeulike.id  \\\n",
       "0       1  the metabolic world of escherichia coli is not...          42.0   \n",
       "\n",
       "                                           raw.title  \\\n",
       "0  The metabolic world of Escherichia coli is not...   \n",
       "\n",
       "                                        raw.abstract  \n",
       "0  To elucidate the organizational and evolutiona...  "
      ]
     },
     "execution_count": 17,
     "metadata": {},
     "output_type": "execute_result"
    }
   ],
   "source": [
    "# Retrieve only the article's information for the articles identified before.\n",
    "\n",
    "articles_top_tag = articles.loc[ articles[\"doc.id\"].isin(doc_ids_from_best_tags) ]\n",
    "\n",
    "articles_top_tag.head(1)"
   ]
  },
  {
   "cell_type": "code",
   "execution_count": 18,
   "metadata": {},
   "outputs": [
    {
     "data": {
      "text/plain": [
       "[44590,\n",
       " 1540,\n",
       " 37837,\n",
       " 16833,\n",
       " 30698,\n",
       " 25906,\n",
       " 31876,\n",
       " 28131,\n",
       " 39682,\n",
       " 45441,\n",
       " 1934,\n",
       " 34723,\n",
       " 6861,\n",
       " 20309,\n",
       " 21404,\n",
       " 29430,\n",
       " 30120,\n",
       " 36185,\n",
       " 2061,\n",
       " 38780]"
      ]
     },
     "execution_count": 18,
     "metadata": {},
     "output_type": "execute_result"
    }
   ],
   "source": [
    "top_n_tag_ids_list = top_n_tags[\"tag_id\"].tolist()\n",
    "\n",
    "top_n_tag_ids_list"
   ]
  },
  {
   "cell_type": "code",
   "execution_count": 19,
   "metadata": {},
   "outputs": [
    {
     "name": "stderr",
     "output_type": "stream",
     "text": [
      "/home/ndonio/miniconda3/envs/tagrec_py35/lib/python2.7/site-packages/pandas/core/indexing.py:362: SettingWithCopyWarning: \n",
      "A value is trying to be set on a copy of a slice from a DataFrame.\n",
      "Try using .loc[row_indexer,col_indexer] = value instead\n",
      "\n",
      "See the caveats in the documentation: http://pandas.pydata.org/pandas-docs/stable/indexing.html#indexing-view-versus-copy\n",
      "  self.obj[key] = _infer_fill_value(value)\n",
      "/home/ndonio/miniconda3/envs/tagrec_py35/lib/python2.7/site-packages/pandas/core/indexing.py:543: SettingWithCopyWarning: \n",
      "A value is trying to be set on a copy of a slice from a DataFrame.\n",
      "Try using .loc[row_indexer,col_indexer] = value instead\n",
      "\n",
      "See the caveats in the documentation: http://pandas.pydata.org/pandas-docs/stable/indexing.html#indexing-view-versus-copy\n",
      "  self.obj[item] = s\n"
     ]
    }
   ],
   "source": [
    "# This function allow to create the output vector for an article:\n",
    "# The function create a zero vector and places ones in the position associated to the tag ids.\n",
    "\n",
    "def generate_article_output(article):\n",
    "    article_id = article[\"doc.id\"]\n",
    "    article_output = np.zeros(TOP_N_TAGS, dtype=int)\n",
    "    \n",
    "    tags_for_article = articles_tags.iloc[article_id-1, 0].split(\" \")\n",
    "    for idx, tag_id in enumerate(tags_for_article):\n",
    "        tag_id = int(tag_id)\n",
    "        if idx != 0 and tag_id in top_n_tag_ids_list:\n",
    "            tag_new_id = top_n_tags.loc[ top_n_tags[\"tag_id\"] == tag_id, \"tag_new_id\" ].tolist()[0]\n",
    "            article_output[tag_new_id] = 1\n",
    "    return np.array(article_output.tolist(), dtype=int)\n",
    "    \n",
    "\n",
    "articles_top_tag.loc[:, \"y_true\"] = articles_top_tag.apply(generate_article_output, axis=1)"
   ]
  },
  {
   "cell_type": "code",
   "execution_count": 20,
   "metadata": {},
   "outputs": [
    {
     "data": {
      "text/html": [
       "<div>\n",
       "<style scoped>\n",
       "    .dataframe tbody tr th:only-of-type {\n",
       "        vertical-align: middle;\n",
       "    }\n",
       "\n",
       "    .dataframe tbody tr th {\n",
       "        vertical-align: top;\n",
       "    }\n",
       "\n",
       "    .dataframe thead th {\n",
       "        text-align: right;\n",
       "    }\n",
       "</style>\n",
       "<table border=\"1\" class=\"dataframe\">\n",
       "  <thead>\n",
       "    <tr style=\"text-align: right;\">\n",
       "      <th></th>\n",
       "      <th>doc.id</th>\n",
       "      <th>title</th>\n",
       "      <th>citeulike.id</th>\n",
       "      <th>raw.title</th>\n",
       "      <th>raw.abstract</th>\n",
       "      <th>y_true</th>\n",
       "    </tr>\n",
       "  </thead>\n",
       "  <tbody>\n",
       "    <tr>\n",
       "      <th>0</th>\n",
       "      <td>1</td>\n",
       "      <td>the metabolic world of escherichia coli is not...</td>\n",
       "      <td>42.0</td>\n",
       "      <td>The metabolic world of Escherichia coli is not...</td>\n",
       "      <td>To elucidate the organizational and evolutiona...</td>\n",
       "      <td>[1, 0, 1, 0, 1, 0, 0, 0, 0, 0, 0, 0, 0, 0, 0, ...</td>\n",
       "    </tr>\n",
       "    <tr>\n",
       "      <th>1</th>\n",
       "      <td>2</td>\n",
       "      <td>reverse engineering of biological complexity</td>\n",
       "      <td>43.0</td>\n",
       "      <td>Reverse Engineering of Biological Complexity</td>\n",
       "      <td>Advanced technologies and biology have extreme...</td>\n",
       "      <td>[1, 0, 1, 1, 1, 0, 0, 0, 0, 0, 0, 0, 0, 0, 1, ...</td>\n",
       "    </tr>\n",
       "    <tr>\n",
       "      <th>2</th>\n",
       "      <td>3</td>\n",
       "      <td>exploring complex networks</td>\n",
       "      <td>44.0</td>\n",
       "      <td>Exploring complex networks</td>\n",
       "      <td>The study of networks pervades all of science,...</td>\n",
       "      <td>[1, 0, 1, 0, 1, 0, 0, 0, 1, 0, 0, 0, 0, 0, 0, ...</td>\n",
       "    </tr>\n",
       "    <tr>\n",
       "      <th>3</th>\n",
       "      <td>4</td>\n",
       "      <td>comparative assessment of largescale data sets...</td>\n",
       "      <td>46.0</td>\n",
       "      <td>Comparative assessment of large-scale data set...</td>\n",
       "      <td>Comprehensive protein protein interaction maps...</td>\n",
       "      <td>[1, 1, 1, 0, 1, 0, 0, 0, 1, 0, 0, 0, 1, 1, 0, ...</td>\n",
       "    </tr>\n",
       "    <tr>\n",
       "      <th>4</th>\n",
       "      <td>5</td>\n",
       "      <td>navigation in a small world</td>\n",
       "      <td>47.0</td>\n",
       "      <td>Navigation in a small world</td>\n",
       "      <td>The small-world phenomenon â the principle t...</td>\n",
       "      <td>[0, 0, 1, 0, 1, 0, 0, 0, 0, 1, 0, 1, 0, 1, 1, ...</td>\n",
       "    </tr>\n",
       "  </tbody>\n",
       "</table>\n",
       "</div>"
      ],
      "text/plain": [
       "   doc.id                                              title  citeulike.id  \\\n",
       "0       1  the metabolic world of escherichia coli is not...          42.0   \n",
       "1       2       reverse engineering of biological complexity          43.0   \n",
       "2       3                         exploring complex networks          44.0   \n",
       "3       4  comparative assessment of largescale data sets...          46.0   \n",
       "4       5                        navigation in a small world          47.0   \n",
       "\n",
       "                                           raw.title  \\\n",
       "0  The metabolic world of Escherichia coli is not...   \n",
       "1       Reverse Engineering of Biological Complexity   \n",
       "2                         Exploring complex networks   \n",
       "3  Comparative assessment of large-scale data set...   \n",
       "4                        Navigation in a small world   \n",
       "\n",
       "                                        raw.abstract  \\\n",
       "0  To elucidate the organizational and evolutiona...   \n",
       "1  Advanced technologies and biology have extreme...   \n",
       "2  The study of networks pervades all of science,...   \n",
       "3  Comprehensive protein protein interaction maps...   \n",
       "4  The small-world phenomenon â the principle t...   \n",
       "\n",
       "                                              y_true  \n",
       "0  [1, 0, 1, 0, 1, 0, 0, 0, 0, 0, 0, 0, 0, 0, 0, ...  \n",
       "1  [1, 0, 1, 1, 1, 0, 0, 0, 0, 0, 0, 0, 0, 0, 1, ...  \n",
       "2  [1, 0, 1, 0, 1, 0, 0, 0, 1, 0, 0, 0, 0, 0, 0, ...  \n",
       "3  [1, 1, 1, 0, 1, 0, 0, 0, 1, 0, 0, 0, 1, 1, 0, ...  \n",
       "4  [0, 0, 1, 0, 1, 0, 0, 0, 0, 1, 0, 1, 0, 1, 1, ...  "
      ]
     },
     "execution_count": 20,
     "metadata": {},
     "output_type": "execute_result"
    }
   ],
   "source": [
    "articles_top_tag.head()"
   ]
  },
  {
   "cell_type": "markdown",
   "metadata": {},
   "source": [
    "## Step 3\n",
    "\n",
    "this step aims to build the vocabulary of the words that will be used to represent our articles and our input\n",
    "\n",
    "The vocabylary is saved in the structure `my_vocabulary` that has the following structure:\n",
    "\n",
    "\n",
    "<!--\"document_list\" : [doc_id_1, ... , doc_id_k],-->\n",
    "<!--\"document_list\" : [doc_id_1, ... , doc_id_j],-->\n",
    "        \n",
    "```JSON\n",
    "\n",
    "my_vocabulary = {\n",
    "\n",
    "    \"word_1\" : {\n",
    "    \n",
    "        \"word_id\": 1,\n",
    "        \"embedding_vector\": [ ... ]\n",
    "    }\n",
    "    ...\n",
    "    \n",
    "    \"word_n\" : {\n",
    "    \n",
    "        \"word_id\": n,\n",
    "        \"embedding_vector\": [ ... ]\n",
    "    }\n",
    "}\n",
    "\n",
    "\n",
    "```\n",
    "For each word:\n",
    "\n",
    "- `word_id`: represent the unique id assigned to that word\n",
    "<!-- - `document_list`: the list of documents (ids) in which the word can be found in the title -->\n",
    "- `embedding_vector`: a word2vector representation of the word\n",
    "\n",
    "The dictionary `id_to_word` allows to map the reference `word_id -> word` and therefore to access, given an id, to the word in a simple and fast way.\n",
    "\n",
    "The vocabulary is built by applying the custom functions `stopwords_removal_and_tokenization` and `create_vocabulary` on each `raw.title` of the selected articles:\n",
    "\n",
    "- The function `stopwords_removal_and_tokenization` tokenize the sentences of the title, remove al the stop words, all the punctuation and update the property `new_title` with the filtered words.\n",
    "\n",
    "- The function `create_vocabulary`, using all the words in the `new_title` property created with the previous function, updates the vocabulary.\n",
    "\n",
    "- The function `get_articles_words_ids` generates a column `new_title_words_id` for each article. This column contains the list of the word's ids filtered in the `new_title` property.\n",
    "\n",
    "\n",
    "The `pad_title` function allows to memorize in the `new_title_words_id_padded` column the input that will be supplied to the network. The function, from the `new_title_words_id` property, allows to generate a zero vector of length `MAX_TITLE_LEN` (the length of the longest title), in which the non-zero elements are the id of the words present in the title."
   ]
  },
  {
   "cell_type": "code",
   "execution_count": 21,
   "metadata": {},
   "outputs": [],
   "source": [
    "from nltk.tokenize import word_tokenize, sent_tokenize\n",
    "from nltk.corpus import stopwords\n",
    "from string import punctuation    \n",
    "\n",
    "stop_words = set(stopwords.words('english'))  # load stop words list"
   ]
  },
  {
   "cell_type": "code",
   "execution_count": 22,
   "metadata": {},
   "outputs": [],
   "source": [
    "my_vocabulary = {} # word -> {word_id: xxxx, word_documents: [doc1, doc2, ... docN], embedding_vector: [] }\n",
    "id_to_word = {} # word_id -> word"
   ]
  },
  {
   "cell_type": "code",
   "execution_count": 23,
   "metadata": {},
   "outputs": [],
   "source": [
    "def stopwords_removal_and_tokenization(text):\n",
    "    words_filtered = []\n",
    "    for sent in sent_tokenize(text):\n",
    "        title_tokenized = word_tokenize(sent)\n",
    "        for i, w in enumerate(title_tokenized):\n",
    "            if i == 0:  # Heuristic: the case of the first word after a period can be stripped\n",
    "                w = w.lower()\n",
    "            if i != 0 and title_tokenized[i-1] in punctuation:\n",
    "                w = w.lower()\n",
    "            if w not in stop_words and len(w) > 2 and ((w not in punctuation) or (w in punctuation and w.find(\"-\") != -1)):\n",
    "                words_filtered.append(w)\n",
    "    \n",
    "    return \" \".join(words_filtered)\n",
    "\n",
    "\n",
    "def create_vocabulary(text, vocabulary, id_word_map):\n",
    "    words_filtered = text.split(\" \")\n",
    "    for w in words_filtered:\n",
    "        if w not in vocabulary:\n",
    "            next_word_id = 1 if (len(id_word_map.keys()) == 0) else max(id_word_map.keys()) + 1\n",
    "            id_word_map[next_word_id] = w\n",
    "            vocabulary[w] = {\"word_id\": next_word_id, \"word_documents\": []}\n",
    "\n",
    "def get_article_words_ids(text, vocabulary):\n",
    "    return [vocabulary[w][\"word_id\"] for w in text.split(\" \")]"
   ]
  },
  {
   "cell_type": "code",
   "execution_count": 24,
   "metadata": {},
   "outputs": [],
   "source": [
    "articles_top_tag.loc[:, 'new_title' ] = articles_top_tag.loc[:, \"raw.title\"].apply(stopwords_removal_and_tokenization)\n",
    "\n",
    "articles_top_tag.loc[:, \"new_title\"].apply(create_vocabulary, args=(my_vocabulary, id_to_word,))\n",
    "\n",
    "articles_top_tag.loc[:, 'new_title_words_id'] = articles_top_tag.loc[:, \"new_title\"].apply(get_article_words_ids, args=(my_vocabulary, ))"
   ]
  },
  {
   "cell_type": "code",
   "execution_count": 25,
   "metadata": {},
   "outputs": [
    {
     "data": {
      "text/html": [
       "<div>\n",
       "<style scoped>\n",
       "    .dataframe tbody tr th:only-of-type {\n",
       "        vertical-align: middle;\n",
       "    }\n",
       "\n",
       "    .dataframe tbody tr th {\n",
       "        vertical-align: top;\n",
       "    }\n",
       "\n",
       "    .dataframe thead th {\n",
       "        text-align: right;\n",
       "    }\n",
       "</style>\n",
       "<table border=\"1\" class=\"dataframe\">\n",
       "  <thead>\n",
       "    <tr style=\"text-align: right;\">\n",
       "      <th></th>\n",
       "      <th>doc.id</th>\n",
       "      <th>title</th>\n",
       "      <th>citeulike.id</th>\n",
       "      <th>raw.title</th>\n",
       "      <th>raw.abstract</th>\n",
       "      <th>y_true</th>\n",
       "      <th>new_title</th>\n",
       "      <th>new_title_words_id</th>\n",
       "    </tr>\n",
       "  </thead>\n",
       "  <tbody>\n",
       "    <tr>\n",
       "      <th>0</th>\n",
       "      <td>1</td>\n",
       "      <td>the metabolic world of escherichia coli is not...</td>\n",
       "      <td>42.0</td>\n",
       "      <td>The metabolic world of Escherichia coli is not...</td>\n",
       "      <td>To elucidate the organizational and evolutiona...</td>\n",
       "      <td>[1, 0, 1, 0, 1, 0, 0, 0, 0, 0, 0, 0, 0, 0, 0, ...</td>\n",
       "      <td>metabolic world Escherichia coli small</td>\n",
       "      <td>[1, 2, 3, 4, 5]</td>\n",
       "    </tr>\n",
       "    <tr>\n",
       "      <th>1</th>\n",
       "      <td>2</td>\n",
       "      <td>reverse engineering of biological complexity</td>\n",
       "      <td>43.0</td>\n",
       "      <td>Reverse Engineering of Biological Complexity</td>\n",
       "      <td>Advanced technologies and biology have extreme...</td>\n",
       "      <td>[1, 0, 1, 1, 1, 0, 0, 0, 0, 0, 0, 0, 0, 0, 1, ...</td>\n",
       "      <td>reverse Engineering Biological Complexity</td>\n",
       "      <td>[6, 7, 8, 9]</td>\n",
       "    </tr>\n",
       "  </tbody>\n",
       "</table>\n",
       "</div>"
      ],
      "text/plain": [
       "   doc.id                                              title  citeulike.id  \\\n",
       "0       1  the metabolic world of escherichia coli is not...          42.0   \n",
       "1       2       reverse engineering of biological complexity          43.0   \n",
       "\n",
       "                                           raw.title  \\\n",
       "0  The metabolic world of Escherichia coli is not...   \n",
       "1       Reverse Engineering of Biological Complexity   \n",
       "\n",
       "                                        raw.abstract  \\\n",
       "0  To elucidate the organizational and evolutiona...   \n",
       "1  Advanced technologies and biology have extreme...   \n",
       "\n",
       "                                              y_true  \\\n",
       "0  [1, 0, 1, 0, 1, 0, 0, 0, 0, 0, 0, 0, 0, 0, 0, ...   \n",
       "1  [1, 0, 1, 1, 1, 0, 0, 0, 0, 0, 0, 0, 0, 0, 1, ...   \n",
       "\n",
       "                                   new_title new_title_words_id  \n",
       "0     metabolic world Escherichia coli small    [1, 2, 3, 4, 5]  \n",
       "1  reverse Engineering Biological Complexity       [6, 7, 8, 9]  "
      ]
     },
     "execution_count": 25,
     "metadata": {},
     "output_type": "execute_result"
    }
   ],
   "source": [
    "articles_top_tag.head(2)"
   ]
  },
  {
   "cell_type": "code",
   "execution_count": 26,
   "metadata": {},
   "outputs": [],
   "source": [
    "# Padding sentences\n",
    "MAX_TITLE_LEN = len(max(articles_top_tag[\"new_title_words_id\"].tolist(), key=len))"
   ]
  },
  {
   "cell_type": "code",
   "execution_count": 27,
   "metadata": {},
   "outputs": [
    {
     "data": {
      "text/plain": [
       "18"
      ]
     },
     "execution_count": 27,
     "metadata": {},
     "output_type": "execute_result"
    }
   ],
   "source": [
    "MAX_TITLE_LEN"
   ]
  },
  {
   "cell_type": "code",
   "execution_count": 28,
   "metadata": {},
   "outputs": [],
   "source": [
    "def pad_title(words_id, maxlen):\n",
    "    padded_title = pad_sequences([words_id], maxlen=maxlen)\n",
    "    return padded_title[0]\n",
    "\n",
    "articles_top_tag.loc[:, \"new_title_words_id_padded\" ] = articles_top_tag.loc[:, \"new_title_words_id\"].apply(pad_title, args=(MAX_TITLE_LEN,))"
   ]
  },
  {
   "cell_type": "code",
   "execution_count": 29,
   "metadata": {},
   "outputs": [
    {
     "data": {
      "text/plain": [
       "array([0, 0, 0, 0, 0, 0, 0, 0, 0, 0, 0, 0, 0, 1, 2, 3, 4, 5], dtype=int32)"
      ]
     },
     "execution_count": 29,
     "metadata": {},
     "output_type": "execute_result"
    }
   ],
   "source": [
    "articles_top_tag.loc[0, \"new_title_words_id_padded\"]"
   ]
  },
  {
   "cell_type": "markdown",
   "metadata": {},
   "source": [
    "## Step 5: \n",
    "\n",
    "In this step is developed a simple model with the sklearn pipeline object.\n",
    "The model has as first component a TFIDFVectorizer object that, given an input of text, compute the tf-idf matrix.\n",
    "The second component is simply a LogisticRegression classifier embedded in an OneVsRestClassifier.\n",
    "This is necessary in order to create a multi-label classifier.\n",
    "\n",
    "```\n",
    "\n",
    "reference_model = Pipeline([\n",
    "    ('tfidf', TfidfVectorizer(stop_words=stop_words)),\n",
    "    ('clf', OneVsRestClassifier(LogisticRegression(solver='sag'))),\n",
    "]);\n",
    "\n",
    "```"
   ]
  },
  {
   "cell_type": "code",
   "execution_count": 30,
   "metadata": {},
   "outputs": [],
   "source": [
    "import matplotlib.pyplot as plt\n",
    "\n",
    "def plot_barchart(labels, data, title=\"\", colors=None):\n",
    "    \n",
    "    if colors is None:\n",
    "        colors = [\"#1f77b4\"] * len(labels)\n",
    "    \n",
    "    indexes = np.arange(len(labels))\n",
    "    plt.bar(indexes, data, color=colors)\n",
    "    plt.xticks(indexes, labels, fontsize=10, rotation=30)\n",
    "    plt.title(title)\n",
    "    plt.show()\n",
    "    \n",
    "# data = list( {y:list(points), x:list(points), c:\"color\", label: \"some label\" } )\n",
    "def plot_linechart(data, title=\"\"):\n",
    "    for d in data:\n",
    "        plt.plot(d[\"x\"], d[\"y\"], d[\"c\"], label=d[\"l\"])\n",
    "    plt.title(title)\n",
    "    plt.legend()\n",
    "    # plt.figure()\n",
    "    plt.show()"
   ]
  },
  {
   "cell_type": "code",
   "execution_count": 31,
   "metadata": {},
   "outputs": [],
   "source": [
    "from sklearn.linear_model import LogisticRegression\n",
    "from sklearn.pipeline import Pipeline\n",
    "from sklearn.feature_extraction.text import TfidfVectorizer\n",
    "from sklearn.metrics import accuracy_score\n",
    "from sklearn.multiclass import OneVsRestClassifier\n",
    "from sklearn.model_selection import train_test_split\n",
    "from sklearn.metrics import precision_recall_fscore_support"
   ]
  },
  {
   "cell_type": "code",
   "execution_count": 32,
   "metadata": {},
   "outputs": [],
   "source": [
    "train_set, test_set = train_test_split(articles_top_tag, test_size=0.1, shuffle=True, random_state=1993)"
   ]
  },
  {
   "cell_type": "code",
   "execution_count": 33,
   "metadata": {},
   "outputs": [],
   "source": [
    "reference_model = Pipeline([\n",
    "    ('tfidf', TfidfVectorizer(stop_words=stop_words)),\n",
    "    ('clf', OneVsRestClassifier(LogisticRegression(solver='sag'))),\n",
    "]);"
   ]
  },
  {
   "cell_type": "code",
   "execution_count": 34,
   "metadata": {},
   "outputs": [
    {
     "name": "stdout",
     "output_type": "stream",
     "text": [
      "((7547,), (7547, 20), (839,), (839, 20))\n"
     ]
    }
   ],
   "source": [
    "# Train set input and y_true for the first model\n",
    "reference_model_train_set_input = np.array(train_set[\"new_title\"].tolist())\n",
    "reference_model_train_set_y_true = np.array(train_set[\"y_true\"].tolist())\n",
    "\n",
    "# Test set input and y_true for the first model\n",
    "reference_model_test_set_input = np.array(test_set[\"new_title\"].tolist())\n",
    "reference_model_test_set_y_true = np.array(test_set[\"y_true\"].tolist())\n",
    "\n",
    "print(reference_model_train_set_input.shape, reference_model_train_set_y_true.shape, reference_model_test_set_input.shape, reference_model_test_set_y_true.shape)"
   ]
  },
  {
   "cell_type": "code",
   "execution_count": 35,
   "metadata": {},
   "outputs": [
    {
     "data": {
      "text/plain": [
       "Pipeline(memory=None,\n",
       "     steps=[('tfidf', TfidfVectorizer(analyzer=u'word', binary=False, decode_error=u'strict',\n",
       "        dtype=<type 'numpy.int64'>, encoding=u'utf-8', input=u'content',\n",
       "        lowercase=True, max_df=1.0, max_features=None, min_df=1,\n",
       "        ngram_range=(1, 1), norm=u'l2', preprocessor=None, smooth_idf=Tru..._state=None, solver='sag', tol=0.0001,\n",
       "          verbose=0, warm_start=False),\n",
       "          n_jobs=1))])"
      ]
     },
     "execution_count": 35,
     "metadata": {},
     "output_type": "execute_result"
    }
   ],
   "source": [
    "reference_model.fit(reference_model_train_set_input, reference_model_train_set_y_true)"
   ]
  },
  {
   "cell_type": "code",
   "execution_count": 36,
   "metadata": {},
   "outputs": [
    {
     "name": "stdout",
     "output_type": "stream",
     "text": [
      "(0.754601226993865, 0.27547592385218367, 0.4036095159967186)\n"
     ]
    }
   ],
   "source": [
    "reference_model_test_set_y_pred = reference_model.predict(reference_model_test_set_input)\n",
    "    \n",
    "reference_model_test_set_precision, reference_model_test_set_recall, reference_model_test_set_f1, reference_model_test_set_support = precision_recall_fscore_support(reference_model_test_set_y_true, reference_model_test_set_y_pred, average=\"micro\")\n",
    "    \n",
    "print(reference_model_test_set_precision, reference_model_test_set_recall, reference_model_test_set_f1)"
   ]
  },
  {
   "cell_type": "code",
   "execution_count": 37,
   "metadata": {},
   "outputs": [
    {
     "data": {
      "image/png": "[encoded data removed]",
      "text/plain": [
       "<Figure size 432x288 with 1 Axes>"
      ]
     },
     "metadata": {},
     "output_type": "display_data"
    }
   ],
   "source": [
    "labels = [\"Precision\", \"Recall\", \"F1 Score\"]\n",
    "data = [reference_model_test_set_precision, reference_model_test_set_recall, reference_model_test_set_f1]\n",
    "title = \"Precision, Recall, F1 Score on Test Set data.\"\n",
    "\n",
    "plot_barchart(labels, data, title)    "
   ]
  },
  {
   "cell_type": "markdown",
   "metadata": {},
   "source": [
    "## Step 6\n",
    "\n",
    "In this step the embedding matrix is built.\n",
    "\n",
    "In order to maximize the number of words with a word2vec representation the pre-trained model used is the one provided by [GloVe](https://nlp.stanford.edu/projects/glove/) with 840B tokens, 2.2M cased words.\n",
    "\n",
    "The generated matrix assign a zero-vector to each word that is not found in the glove dictionary.\n",
    "\n",
    "In this phase the property `embedding_vector` of the structure `my_vocabulary` is updated."
   ]
  },
  {
   "cell_type": "code",
   "execution_count": 38,
   "metadata": {},
   "outputs": [],
   "source": [
    "VECTOR_DIMENSION = 300"
   ]
  },
  {
   "cell_type": "code",
   "execution_count": 39,
   "metadata": {},
   "outputs": [],
   "source": [
    "word2vec = KeyedVectors.load_word2vec_format(__gloove_w2v_path)"
   ]
  },
  {
   "cell_type": "code",
   "execution_count": 40,
   "metadata": {},
   "outputs": [],
   "source": [
    "def build_embedding_matrix(vocabulary, w2v_model, vector_dimension):\n",
    "    \n",
    "    e_m = np.zeros((len(vocabulary)+1, vector_dimension))\n",
    "\n",
    "    # fill this matrix with values from pre-trained word2vec\n",
    "    for word in vocabulary:\n",
    "        word_id = vocabulary[word][\"word_id\"]\n",
    "        if word in w2v_model.vocab:\n",
    "            e_m[word_id] = w2v_model.word_vec(word)\n",
    "    \n",
    "        vocabulary[word][\"embedding_vector\"] = e_m[word_id]\n",
    "    \n",
    "    return e_m\n",
    "\n",
    "def get_words_without_w2v(vocabulary):\n",
    "    return [ w for w in vocabulary if(np.count_nonzero(vocabulary[w][\"embedding_vector\"]) == 0)]\n",
    "\n",
    "def print_vocabulary_stats(vocabulary):\n",
    "    words_not_found = get_words_without_w2v(vocabulary)\n",
    "    print(len(vocabulary), len(words_not_found), len(words_not_found)/float(len(vocabulary)))"
   ]
  },
  {
   "cell_type": "code",
   "execution_count": 41,
   "metadata": {},
   "outputs": [
    {
     "data": {
      "text/plain": [
       "array([[ 0.        ,  0.        ,  0.        , ...,  0.        ,\n",
       "         0.        ,  0.        ],\n",
       "       [-0.59028   ,  0.67391002, -0.49757001, ..., -0.38861999,\n",
       "        -0.49307001, -0.31288999],\n",
       "       [-0.0066796 ,  0.22238   ,  0.27709001, ...,  0.059372  ,\n",
       "         0.0014085 ,  0.098727  ],\n",
       "       ...,\n",
       "       [-0.80913001,  0.0085352 , -0.10499   , ..., -0.42377999,\n",
       "        -0.29381001, -0.019974  ],\n",
       "       [-0.15756001, -0.12185   , -0.043436  , ..., -0.0081011 ,\n",
       "        -0.0024309 , -0.039019  ],\n",
       "       [-0.94972003,  0.69369   , -0.14569999, ..., -0.84353   ,\n",
       "         0.015453  , -0.042529  ]])"
      ]
     },
     "execution_count": 41,
     "metadata": {},
     "output_type": "execute_result"
    }
   ],
   "source": [
    "embedding_matrix = build_embedding_matrix(my_vocabulary, word2vec, VECTOR_DIMENSION)\n",
    "\n",
    "embedding_matrix"
   ]
  },
  {
   "cell_type": "code",
   "execution_count": 42,
   "metadata": {},
   "outputs": [
    {
     "name": "stdout",
     "output_type": "stream",
     "text": [
      "(11638, 1363, 0.11711634301426362)\n"
     ]
    }
   ],
   "source": [
    "print_vocabulary_stats(my_vocabulary)"
   ]
  },
  {
   "cell_type": "markdown",
   "metadata": {},
   "source": [
    "## Step 6\n",
    "\n",
    "In this step the articles are splitted in test set and training set and the first model was built.\n",
    "\n",
    "### First Model\n",
    "\n",
    "The model developed with Keras is the following:\n",
    "\n",
    "```\n",
    "Layer (type)        Output Shape       \n",
    "=======================================\n",
    "InputLayer          (0, 24)            \n",
    "_______________________________________\n",
    "EmbeddingLayer      (0, 24, 300)       \n",
    "_______________________________________\n",
    "LSTM                (0, 300)              \n",
    "_______________________________________\n",
    "OutputLayer         (0, 20)                  \n",
    "=======================================\n",
    "```\n",
    "\n",
    "#### Evaluation Metrics\n",
    "\n",
    "During the training the `EarlyStoppingCriteria` was used in order to speed-up the process.\n",
    "The `EarlyStopByF1` class implementing the `keras.callbacks.Callback` interface is responsible to stop the training once that the F1-Score does not change at least of `0.05` between one epoch and the next one.\n",
    "The model save the weights every time that a new best F1-Score is achieved.\n",
    "This class is also responsible to evaluate the following metrics:\n",
    "\n",
    "- Micro-Average Precision\n",
    "- Micro-Average Recall\n",
    "- Micro-Average F1 Measure\n",
    "\n",
    "In the Micro-average method, we are going to sum up all the individual true positives, false positives, and false negatives for different sets and the apply them to get the statistics. \n",
    "\n",
    "For example if:\n",
    "\n",
    "- y_true = [ [0, 0, 1, 1], [0, 0, 1, 1], [0, 0, 1, 1] ]\n",
    "\n",
    "\n",
    "- y_true = [ [1, 0, 1, 1], [1, 1, 1, 1], [0, 0, 0, 1] ]\n",
    "\n",
    "\n",
    "- kind = [ [FP, TN, TP, TP], [FP, FP, TP, TP], [TN, TN, FN, TP] ]\n",
    " \n",
    "\n",
    "then we have that: \n",
    "\n",
    "- Test1 : \n",
    "    - TP1 = 2\n",
    "    - FP1 = 1\n",
    "    - FN1 = 0\n",
    "    \n",
    "    \n",
    "- Test2 : \n",
    "    - TP2 = 2\n",
    "    - FP2 = 2\n",
    "    - FN2 = 0\n",
    "    \n",
    "    \n",
    "- Test3 : \n",
    "    - TP3 = 1\n",
    "    - FP3 = 0\n",
    "    - FN3 = 1\n",
    "\n",
    "therefore:\n",
    "\n",
    "- Micro-Average Precision: (TP1 + TP2 + TP3) / (TP1 + FP1 + TP2 + FP2 + TP3 + FP3) = 5/7\n",
    "\n",
    "- Micro-Average Recall: (TP1 + TP2 + TP3) / (TP1 + FN1 + TP2 + FN2 + TP3 + FN3)  = 5/6\n",
    "\n",
    "- Micro-Average F1-Measure: (1 + b^2) * (MP * MR)/( (b^2 * MP) + MR )\n",
    "\n",
    "\n",
    "In the macro-average method, instead, the average of the precision and recall on different sets are taken. \n",
    "For the previous example, this mean that\n",
    "\n",
    "- Test1 : \n",
    "    - P1 = TP1 / (TP1 + FP1) = 2/3\n",
    "    - R1 = TP1 / (TP1 + FN1) = 2/2\n",
    "    \n",
    "- Test2 : \n",
    "    - P2 = TP2 / (TP2 + FP2) = 2/4\n",
    "    - R2 = TP2 / (TP2 + FN2) = 2/2\n",
    "    \n",
    "- Test3 : \n",
    "    - P3 = TP3 / (TP3 + FP3) = 1/1\n",
    "    - R3 = TP3 / (TP3 + FN3) = 1/2\n",
    "\n",
    "therefore:\n",
    "\n",
    "- Macro-Average Precision (MAP) = (P1 + P2 + P3) / 3 \n",
    "\n",
    "- Macro-Average Recall (MAR) = (R1 + R2 + R3) / 3 \n",
    "\n",
    "- Macro-Average F1-Measure : harmonic mean of MAP and MAR .\n",
    "\n",
    "\n",
    "#### Layers\n",
    "\n",
    "##### First Layer\n",
    "\n",
    "The first layer is the layer of input. This layer accept as input a vector of length 24, the length of the longest title. The input vector, as described before, has in every position the id of the word present in that sentence.\n",
    "For istance, if the title of an article is `The metabolic world of Escherichia coli is not small` and after the pre-processing phase the result title is `metabolic world Escherichia coli small` or, in terms of word's ids `[1, 2, 3, 4, 5]`, then the input vector is the following `[0, 0, 0, 0, 0, 0, 0, 0, 0, 0, 0, 0, 0, 0, 0, 0, 0, 0, 0, 1, 2, 3, 4, 5]`.\n",
    "\n",
    "##### Embedding Layer\n",
    "\n",
    "The second layer is the Embedding Layer and has a shape of `(0, 24, 300)`. Each word in the title is represented with a 300 dimensional vector, so each word is mapped to the respective word2vec vector.\n",
    "The embedding matrix is used in order to assign a weight to each vector and is not update during the training process.\n",
    "\n",
    "##### LSTM Layer\n",
    "\n",
    "The third layer is the LSTM layer that is the layer in which our network model should be able to learn the dependencies between each word in the title.\n",
    "\n",
    "<!--##### Hidden Layers\n",
    "The hidden layers used are 2. Both of them use `ReLu` as activation function.-->\n",
    "\n",
    "##### Output Layer\n",
    "The output Layer has a dimension of TOP_N_TAGS, 20 in this example.\n",
    "Each output neuron store a value between [0, 1] thanks to the `Sigmoid` function that is used as activation function.\n"
   ]
  },
  {
   "cell_type": "code",
   "execution_count": 43,
   "metadata": {},
   "outputs": [
    {
     "data": {
      "text/plain": [
       "(7547, 18)"
      ]
     },
     "execution_count": 43,
     "metadata": {},
     "output_type": "execute_result"
    }
   ],
   "source": [
    "first_model_train_set_input =  np.array(train_set.loc[:, \"new_title_words_id_padded\"].tolist())\n",
    "\n",
    "first_model_train_set_input.shape"
   ]
  },
  {
   "cell_type": "code",
   "execution_count": 44,
   "metadata": {},
   "outputs": [
    {
     "data": {
      "text/plain": [
       "(7547, 20)"
      ]
     },
     "execution_count": 44,
     "metadata": {},
     "output_type": "execute_result"
    }
   ],
   "source": [
    "first_model_train_set_y_true = np.array(train_set.loc[:, \"y_true\"].tolist())\n",
    "\n",
    "first_model_train_set_y_true.shape"
   ]
  },
  {
   "cell_type": "code",
   "execution_count": 45,
   "metadata": {},
   "outputs": [
    {
     "data": {
      "text/plain": [
       "(839, 18)"
      ]
     },
     "execution_count": 45,
     "metadata": {},
     "output_type": "execute_result"
    }
   ],
   "source": [
    "first_model_test_set_input = np.array(test_set.loc[:, \"new_title_words_id_padded\"].tolist())\n",
    "\n",
    "first_model_test_set_input.shape"
   ]
  },
  {
   "cell_type": "code",
   "execution_count": 46,
   "metadata": {},
   "outputs": [
    {
     "data": {
      "text/plain": [
       "(839, 20)"
      ]
     },
     "execution_count": 46,
     "metadata": {},
     "output_type": "execute_result"
    }
   ],
   "source": [
    "first_model_test_set_y_true = np.array(test_set.loc[:, \"y_true\"].tolist())\n",
    "\n",
    "first_model_test_set_y_true.shape"
   ]
  },
  {
   "cell_type": "code",
   "execution_count": 47,
   "metadata": {},
   "outputs": [],
   "source": [
    "OUTPUT_ACTIVATION_THRESHOLD = 0.5\n",
    "F1_PATIENCE = 0.03\n",
    "F1_BETA = 1.0"
   ]
  },
  {
   "cell_type": "code",
   "execution_count": 48,
   "metadata": {},
   "outputs": [],
   "source": [
    "def get_output(output_array, threshold=0.5):\n",
    "    if threshold == 0.5:\n",
    "        return np.around(output_array).astype(int)\n",
    "    return np.array( [1 if x > threshold else 0 for x in output_array] , dtype=int)"
   ]
  },
  {
   "cell_type": "code",
   "execution_count": 49,
   "metadata": {},
   "outputs": [],
   "source": [
    "import keras.callbacks as keras_callbacks \n",
    "\n",
    "class EarlyStopByF1(keras_callbacks.Callback):\n",
    "    \n",
    "    def __init__(self, output_activation_threshold=0.5, f1_score_patience=0.03, f1_score_beta=1.0, save_to_path=\"weights.hdf5\"):\n",
    "        super(keras_callbacks.Callback, self).__init__()\n",
    "        self.output_activation_threshold = output_activation_threshold\n",
    "        self.f1_score_patience = f1_score_patience\n",
    "        self.f1_score_beta = f1_score_beta\n",
    "        self.save_to_path = save_to_path\n",
    "        \n",
    "    def on_train_begin(self, logs={}):\n",
    "        self.f1s = []\n",
    "        self.recalls = []\n",
    "        self.precisions = []\n",
    "        \n",
    "        self.val_f1s = []\n",
    "        self.val_recalls = []\n",
    "        self.val_precisions = []\n",
    "\n",
    "        self.best_f1_score = 0\n",
    "\n",
    "        \n",
    "    def on_epoch_end(self, epoch, logs={}):\n",
    "                \n",
    "        val_x = self.validation_data[0]\n",
    "        val_y = self.validation_data[1]\n",
    "        \n",
    "        val_y1 = get_output(self.model.predict(val_x), self.output_activation_threshold)\n",
    "        \n",
    "        step_val_precision, step_val_recall, step_val_f1, step_support = precision_recall_fscore_support(val_y, val_y1, beta=self.f1_score_beta, average=\"micro\")\n",
    "        \n",
    "        if step_val_f1 > self.best_f1_score:\n",
    "            self.best_f1_score = step_val_f1\n",
    "            self.model.save_weights(self.save_to_path)\n",
    "        elif self.best_f1_score - step_val_f1 > self.f1_score_patience:\n",
    "                print(\"Epoch %d: early stopping by F1\" % epoch)\n",
    "                self.model.stop_training = True\n",
    "       \n",
    "        self.val_f1s.append(step_val_f1)\n",
    "        self.val_recalls.append(step_val_recall)\n",
    "        self.val_precisions.append(step_val_precision)\n",
    "        print(\"val_f1: %f — val_precision: %f — val_recall %f\" %(step_val_f1, step_val_precision, step_val_recall) )\n",
    "        return"
   ]
  },
  {
   "cell_type": "code",
   "execution_count": 50,
   "metadata": {},
   "outputs": [],
   "source": [
    "def get_model(vocabulary, sentence_length, vector_dimension, output_length, embedding_matrix):\n",
    "    vocabulary_size = len(vocabulary)+1\n",
    "    \n",
    "    # https://keras.io/layers/embeddings/\n",
    "    embedding_layer = Embedding(\n",
    "        vocabulary_size, # how many words are mapped into vectors\n",
    "        vector_dimension, # size of output vector dimension\n",
    "        input_length=sentence_length, # how many words in the sentence we process\n",
    "        weights=[embedding_matrix], # weights initialized from the pre-trained model\n",
    "        trainable=False) # we will not update this layer\n",
    "\n",
    "    lstm_cell = LSTM(vector_dimension) # number of outputs\n",
    "    \n",
    "    sentence_input = Input(shape=(sentence_length,), dtype=\"int32\") # the input takes\n",
    "    embedded_sentence = embedding_layer(sentence_input)\n",
    "    lstm_layer = lstm_cell(embedded_sentence)\n",
    "    \n",
    "    # deep layers\n",
    "    #deep_layer1_dim = 150\n",
    "    #deep_layer1 = Dense(deep_layer1_dim, activation=\"relu\")(lstm_layer)\n",
    "\n",
    "    #deep_layer2_dim = 50\n",
    "    #deep_layer2 = Dense(deep_layer2_dim, activation=\"relu\")(deep_layer1)\n",
    "\n",
    "    prediction = Dense(output_length, activation=\"sigmoid\")(lstm_layer)\n",
    "    model = Model(inputs=[sentence_input], outputs=prediction)\n",
    "    \n",
    "    model.compile(loss=\"binary_crossentropy\", optimizer=\"adam\", metrics=[\"accuracy\"])\n",
    "    \n",
    "    return model"
   ]
  },
  {
   "cell_type": "code",
   "execution_count": 51,
   "metadata": {},
   "outputs": [
    {
     "name": "stdout",
     "output_type": "stream",
     "text": [
      "_________________________________________________________________\n",
      "Layer (type)                 Output Shape              Param #   \n",
      "=================================================================\n",
      "input_1 (InputLayer)         (None, 18)                0         \n",
      "_________________________________________________________________\n",
      "embedding_1 (Embedding)      (None, 18, 300)           3491700   \n",
      "_________________________________________________________________\n",
      "lstm_1 (LSTM)                (None, 300)               721200    \n",
      "_________________________________________________________________\n",
      "dense_1 (Dense)              (None, 20)                6020      \n",
      "=================================================================\n",
      "Total params: 4,218,920\n",
      "Trainable params: 727,220\n",
      "Non-trainable params: 3,491,700\n",
      "_________________________________________________________________\n"
     ]
    }
   ],
   "source": [
    "first_model = get_model(my_vocabulary, MAX_TITLE_LEN, VECTOR_DIMENSION, TOP_N_TAGS, embedding_matrix)\n",
    "\n",
    "first_model.summary()"
   ]
  },
  {
   "cell_type": "code",
   "execution_count": 52,
   "metadata": {},
   "outputs": [],
   "source": [
    "first_model_weights_path = \"first_model_weights.hdf5\"\n",
    "\n",
    "first_model_early_stop_by_f1 = EarlyStopByF1(OUTPUT_ACTIVATION_THRESHOLD, F1_PATIENCE, F1_BETA, first_model_weights_path)\n",
    "first_model_early_stop_by_val_acc = keras_callbacks.EarlyStopping(monitor='val_loss', patience=3)\n",
    "\n",
    "first_model_metrics = [first_model_early_stop_by_f1] #, first_model_early_stop_by_val_acc]"
   ]
  },
  {
   "cell_type": "code",
   "execution_count": 142,
   "metadata": {
    "collapsed": true
   },
   "outputs": [
    {
     "name": "stdout",
     "output_type": "stream",
     "text": [
      "Train on 6792 samples, validate on 755 samples\n",
      "Epoch 1/50\n",
      "6792/6792 [==============================] - 12s 2ms/step - loss: 0.3387 - acc: 0.8801 - val_loss: 0.2723 - val_acc: 0.8986\n",
      "val_f1: 0.210418 — val_precision: 0.576271 — val_recall 0.128707\n",
      "Epoch 2/50\n",
      "6792/6792 [==============================] - 9s 1ms/step - loss: 0.2527 - acc: 0.9037 - val_loss: 0.2409 - val_acc: 0.9107\n",
      "val_f1: 0.382784 — val_precision: 0.697830 — val_recall 0.263722\n",
      "Epoch 3/50\n",
      "6792/6792 [==============================] - 9s 1ms/step - loss: 0.2348 - acc: 0.9108 - val_loss: 0.2360 - val_acc: 0.9115\n",
      "val_f1: 0.418443 — val_precision: 0.673669 — val_recall 0.303470\n",
      "Epoch 4/50\n",
      "6792/6792 [==============================] - 9s 1ms/step - loss: 0.2254 - acc: 0.9149 - val_loss: 0.2296 - val_acc: 0.9134\n",
      "val_f1: 0.435421 — val_precision: 0.690411 — val_recall 0.317981\n",
      "Epoch 5/50\n",
      "6792/6792 [==============================] - 10s 1ms/step - loss: 0.2154 - acc: 0.9179 - val_loss: 0.2265 - val_acc: 0.9164\n",
      "val_f1: 0.466413 — val_precision: 0.705882 — val_recall 0.348265\n",
      "Epoch 6/50\n",
      "6792/6792 [==============================] - 9s 1ms/step - loss: 0.2075 - acc: 0.9209 - val_loss: 0.2282 - val_acc: 0.9155\n",
      "val_f1: 0.487138 — val_precision: 0.671096 — val_recall 0.382334\n",
      "Epoch 7/50\n",
      "6792/6792 [==============================] - 9s 1ms/step - loss: 0.2012 - acc: 0.9232 - val_loss: 0.2323 - val_acc: 0.9146\n",
      "Epoch 6: early stopping by F1\n",
      "val_f1: 0.443677 — val_precision: 0.702186 — val_recall 0.324290\n"
     ]
    }
   ],
   "source": [
    "first_model_history = first_model.fit(first_model_train_set_input, first_model_train_set_y_true, validation_split=0.1, batch_size=128, epochs=50, callbacks=first_model_metrics)"
   ]
  },
  {
   "cell_type": "code",
   "execution_count": 143,
   "metadata": {},
   "outputs": [
    {
     "data": {
      "image/png": "[encoded data removed]",
      "text/plain": [
       "<Figure size 432x288 with 1 Axes>"
      ]
     },
     "metadata": {},
     "output_type": "display_data"
    }
   ],
   "source": [
    "first_model_acc = first_model_history.history['acc']\n",
    "first_model_val_acc = first_model_history.history['val_acc']\n",
    "first_model_epochs = range(len(first_model_acc))\n",
    " \n",
    "data = [\n",
    "    {\"x\": first_model_epochs, \"y\": first_model_acc, \"c\":\"r\", \"l\": \"Training Accuracy\"},\n",
    "    {\"x\": first_model_epochs, \"y\": first_model_val_acc, \"c\":\"b\", \"l\": \"Validation Accuracy\"}\n",
    "]\n",
    "\n",
    "title = \"Training and validation accuracy\"\n",
    "\n",
    "plot_linechart(data, title)"
   ]
  },
  {
   "cell_type": "code",
   "execution_count": 144,
   "metadata": {},
   "outputs": [
    {
     "data": {
      "image/png": "[encoded data removed]",
      "text/plain": [
       "<Figure size 432x288 with 1 Axes>"
      ]
     },
     "metadata": {},
     "output_type": "display_data"
    }
   ],
   "source": [
    "first_model_loss = first_model_history.history['loss']\n",
    "first_model_val_loss = first_model_history.history['val_loss']\n",
    "\n",
    "data = [\n",
    "    {\"x\": first_model_epochs, \"y\": first_model_loss, \"c\":\"r\", \"l\": \"Training Loss\"},\n",
    "    {\"x\": first_model_epochs, \"y\": first_model_val_loss, \"c\":\"b\", \"l\": \"Validation Loss\"}\n",
    "]\n",
    "\n",
    "title = \"Training and validation loss\"\n",
    "\n",
    "plot_linechart(data, title)"
   ]
  },
  {
   "cell_type": "code",
   "execution_count": 145,
   "metadata": {},
   "outputs": [
    {
     "data": {
      "image/png": "[encoded data removed]",
      "text/plain": [
       "<Figure size 432x288 with 1 Axes>"
      ]
     },
     "metadata": {},
     "output_type": "display_data"
    }
   ],
   "source": [
    "first_model_val_f1 = first_model_early_stop_by_f1.val_f1s\n",
    "first_model_val_precision = first_model_early_stop_by_f1.val_precisions\n",
    "first_model_val_recall = first_model_early_stop_by_f1.val_recalls\n",
    "\n",
    "data = [\n",
    "    {\"x\": first_model_epochs, \"y\": first_model_val_f1, \"c\":\"g\", \"l\": \"Training f1\"},\n",
    "    {\"x\": first_model_epochs, \"y\": first_model_val_recall, \"c\":\"r\", \"l\": \"Training precision\"},\n",
    "    {\"x\": first_model_epochs, \"y\": first_model_val_precision, \"c\":\"b\", \"l\": \"Training recall\"},\n",
    "]\n",
    "\n",
    "title = \"Training F1, Precision and Recall\"\n",
    "\n",
    "plot_linechart(data, title)"
   ]
  },
  {
   "cell_type": "code",
   "execution_count": 53,
   "metadata": {},
   "outputs": [],
   "source": [
    "# Load best weights and recompile the model\n",
    "first_model.load_weights(first_model_weights_path)\n",
    "\n",
    "first_model_test_set_y_pred = get_output(first_model.predict(first_model_test_set_input), OUTPUT_ACTIVATION_THRESHOLD)\n",
    "\n",
    "first_model_test_set_precision, first_model_test_set_recall, first_model_test_set_f1, first_model_test_set_support = precision_recall_fscore_support(first_model_test_set_y_true, first_model_test_set_y_pred, average=\"micro\")"
   ]
  },
  {
   "cell_type": "code",
   "execution_count": 54,
   "metadata": {},
   "outputs": [
    {
     "data": {
      "image/png": "[encoded data removed]",
      "text/plain": [
       "<Figure size 432x288 with 1 Axes>"
      ]
     },
     "metadata": {},
     "output_type": "display_data"
    }
   ],
   "source": [
    "labels = [\"Precision\", \"Recall\", \"F1 Score\"]\n",
    "data = [first_model_test_set_precision, first_model_test_set_recall, first_model_test_set_f1]\n",
    "title = \"First LSTM model performances.\"\n",
    "\n",
    "plot_barchart(labels, data, title)"
   ]
  },
  {
   "cell_type": "markdown",
   "metadata": {},
   "source": [
    "# Step 7: Comparison and Further Analysis\n",
    "\n",
    "In this section the 2 models are evaluated based on the metrics defined in the section 2."
   ]
  },
  {
   "cell_type": "code",
   "execution_count": 55,
   "metadata": {},
   "outputs": [
    {
     "data": {
      "image/png": "[encoded data removed]",
      "text/plain": [
       "<Figure size 432x288 with 1 Axes>"
      ]
     },
     "metadata": {},
     "output_type": "display_data"
    }
   ],
   "source": [
    "# Compare Precision \n",
    "\n",
    "FIRST_MODEL_COLOR = \"#ff7f0e\"\n",
    "REFERENCE_MODEL_COLOR = \"#1f77b4\"\n",
    "\n",
    "colors = [REFERENCE_MODEL_COLOR, FIRST_MODEL_COLOR]\n",
    "\n",
    "labels = [\"Precision Reference Model\", \"Precision LSTM\"]\n",
    "title = \"Precision on Test Set data for the 2 models.\"\n",
    "data = [reference_model_test_set_precision, first_model_test_set_precision]\n",
    "\n",
    "plot_barchart(labels, data, title, colors=colors)"
   ]
  },
  {
   "cell_type": "code",
   "execution_count": 56,
   "metadata": {},
   "outputs": [
    {
     "data": {
      "image/png": "[encoded data removed]",
      "text/plain": [
       "<Figure size 432x288 with 1 Axes>"
      ]
     },
     "metadata": {},
     "output_type": "display_data"
    }
   ],
   "source": [
    "# Compare Recall \n",
    "\n",
    "labels = [\"Recall Simple Model\", \"Recall LSTM\"]\n",
    "data =  [reference_model_test_set_recall, first_model_test_set_recall]\n",
    "title = \"Recall on Test Set data for the 2 models.\"\n",
    "\n",
    "plot_barchart(labels, data, title, colors=colors)"
   ]
  },
  {
   "cell_type": "code",
   "execution_count": 57,
   "metadata": {},
   "outputs": [
    {
     "data": {
      "image/png": "[encoded data removed]",
      "text/plain": [
       "<Figure size 432x288 with 1 Axes>"
      ]
     },
     "metadata": {},
     "output_type": "display_data"
    }
   ],
   "source": [
    "# Compare F1\n",
    "\n",
    "labels = [\"F1 Score Reference Model\", \"F1 Score LSTM\"]\n",
    "data = [reference_model_test_set_f1, first_model_test_set_f1]\n",
    "title = \"F1 Score on Test Set data for the 2 models.\"\n",
    "\n",
    "plot_barchart(labels, data, title, colors=colors)"
   ]
  },
  {
   "cell_type": "markdown",
   "metadata": {},
   "source": [
    "## Step 7.1: Better representation of the input\n",
    "\n",
    "In this step i try to understand if the devolped models can give us better performance when the vocabulary is built on top of the `raw.abstract` property of the articles. "
   ]
  },
  {
   "cell_type": "code",
   "execution_count": 58,
   "metadata": {},
   "outputs": [],
   "source": [
    "my_vocabulary_abstract = {} # word -> {word_id: xxxx, word_documents: [doc1, doc2, ... docN], embedding_vector: [] }\n",
    "id_to_word_abstract = {} # word_id -> word"
   ]
  },
  {
   "cell_type": "code",
   "execution_count": 59,
   "metadata": {},
   "outputs": [],
   "source": [
    "articles_top_tag.loc[:, 'new_abstract' ] = articles_top_tag.loc[:, \"raw.abstract\"].apply(stopwords_removal_and_tokenization)\n",
    "\n",
    "articles_top_tag.loc[:, \"new_abstract\"].apply(create_vocabulary, args=(my_vocabulary_abstract, id_to_word_abstract,))\n",
    "\n",
    "articles_top_tag.loc[:, 'new_abstract_words_id'] = articles_top_tag.loc[:, \"new_abstract\"].apply(get_article_words_ids, args=(my_vocabulary_abstract,))"
   ]
  },
  {
   "cell_type": "code",
   "execution_count": 60,
   "metadata": {},
   "outputs": [],
   "source": [
    "embedding_matrix_2 = build_embedding_matrix(my_vocabulary_abstract, word2vec, VECTOR_DIMENSION)"
   ]
  },
  {
   "cell_type": "code",
   "execution_count": 61,
   "metadata": {},
   "outputs": [
    {
     "name": "stdout",
     "output_type": "stream",
     "text": [
      "(61368, 20994, 0.34210011732499024)\n"
     ]
    }
   ],
   "source": [
    "print_vocabulary_stats(my_vocabulary_abstract)"
   ]
  },
  {
   "cell_type": "code",
   "execution_count": 62,
   "metadata": {},
   "outputs": [],
   "source": [
    "MAX_ABSTRACT_LEN = len(max(articles_top_tag[\"new_abstract_words_id\"].tolist(), key=len))"
   ]
  },
  {
   "cell_type": "code",
   "execution_count": 63,
   "metadata": {},
   "outputs": [],
   "source": [
    "MIN_ABSTRACT_LEN = len(min(articles_top_tag[\"new_abstract_words_id\"].tolist(), key=len))"
   ]
  },
  {
   "cell_type": "code",
   "execution_count": 64,
   "metadata": {},
   "outputs": [],
   "source": [
    "AVG_ABSTRACT_LEN = [len(x) for x in articles_top_tag[\"new_abstract_words_id\"].tolist()]"
   ]
  },
  {
   "cell_type": "code",
   "execution_count": 65,
   "metadata": {},
   "outputs": [],
   "source": [
    "AVG_ABSTRACT_LEN = sum(AVG_ABSTRACT_LEN) / len(AVG_ABSTRACT_LEN)"
   ]
  },
  {
   "cell_type": "code",
   "execution_count": 66,
   "metadata": {},
   "outputs": [
    {
     "name": "stdout",
     "output_type": "stream",
     "text": [
      "(33, 5234, 110)\n"
     ]
    }
   ],
   "source": [
    "print(MIN_ABSTRACT_LEN, MAX_ABSTRACT_LEN, AVG_ABSTRACT_LEN)"
   ]
  },
  {
   "cell_type": "code",
   "execution_count": 67,
   "metadata": {},
   "outputs": [],
   "source": [
    "MAX_SENTENCE_LEN = 100"
   ]
  },
  {
   "cell_type": "code",
   "execution_count": 68,
   "metadata": {},
   "outputs": [],
   "source": [
    "articles_top_tag.loc[:, \"new_abstract_words_id_padded\" ] = articles_top_tag.loc[:, \"new_abstract_words_id\"].apply(pad_title, args=(MAX_SENTENCE_LEN,))"
   ]
  },
  {
   "cell_type": "code",
   "execution_count": 69,
   "metadata": {},
   "outputs": [],
   "source": [
    "train_set, test_set = train_test_split(articles_top_tag, test_size=0.1, shuffle=True, random_state=1993)"
   ]
  },
  {
   "cell_type": "code",
   "execution_count": 70,
   "metadata": {},
   "outputs": [],
   "source": [
    "# Second model train set input and y_true\n",
    "second_model_train_set_input =  np.array(train_set.loc[:, \"new_abstract_words_id_padded\"].tolist())\n",
    "second_model_train_set_y_true = np.array(train_set.loc[:, \"y_true\"].tolist())\n",
    "\n",
    "# Second model test set input and y_true\n",
    "second_model_test_set_input = np.array(test_set.loc[:, \"new_abstract_words_id_padded\"].tolist())\n",
    "second_model_test_set_y_true = np.array(test_set.loc[:, \"y_true\"].tolist())"
   ]
  },
  {
   "cell_type": "code",
   "execution_count": 71,
   "metadata": {},
   "outputs": [
    {
     "name": "stdout",
     "output_type": "stream",
     "text": [
      "_________________________________________________________________\n",
      "Layer (type)                 Output Shape              Param #   \n",
      "=================================================================\n",
      "input_2 (InputLayer)         (None, 100)               0         \n",
      "_________________________________________________________________\n",
      "embedding_2 (Embedding)      (None, 100, 300)          18410700  \n",
      "_________________________________________________________________\n",
      "lstm_2 (LSTM)                (None, 300)               721200    \n",
      "_________________________________________________________________\n",
      "dense_2 (Dense)              (None, 20)                6020      \n",
      "=================================================================\n",
      "Total params: 19,137,920\n",
      "Trainable params: 727,220\n",
      "Non-trainable params: 18,410,700\n",
      "_________________________________________________________________\n"
     ]
    }
   ],
   "source": [
    "second_model = get_model(my_vocabulary_abstract, MAX_SENTENCE_LEN, VECTOR_DIMENSION, TOP_N_TAGS, embedding_matrix_2)\n",
    "\n",
    "second_model.summary()"
   ]
  },
  {
   "cell_type": "code",
   "execution_count": 72,
   "metadata": {},
   "outputs": [],
   "source": [
    "second_model_weights_path = \"second_model_weights.hdf5\"\n",
    "second_model_early_stop_by_f1 = EarlyStopByF1(OUTPUT_ACTIVATION_THRESHOLD, F1_PATIENCE, F1_BETA, second_model_weights_path)\n",
    "\n",
    "second_model_metrics = [second_model_early_stop_by_f1]"
   ]
  },
  {
   "cell_type": "code",
   "execution_count": 167,
   "metadata": {
    "collapsed": true
   },
   "outputs": [
    {
     "name": "stdout",
     "output_type": "stream",
     "text": [
      "Train on 6792 samples, validate on 755 samples\n",
      "Epoch 1/50\n",
      "6792/6792 [==============================] - 44s 6ms/step - loss: 0.3442 - acc: 0.8827 - val_loss: 0.3091 - val_acc: 0.8956\n",
      "val_f1: 0.033109 — val_precision: 0.586957 — val_recall 0.017035\n",
      "Epoch 2/50\n",
      "6792/6792 [==============================] - 45s 7ms/step - loss: 0.2939 - acc: 0.8937 - val_loss: 0.2795 - val_acc: 0.8985\n",
      "val_f1: 0.152655 — val_precision: 0.618834 — val_recall 0.087066\n",
      "Epoch 3/50\n",
      "6792/6792 [==============================] - 46s 7ms/step - loss: 0.2704 - acc: 0.8970 - val_loss: 0.2604 - val_acc: 0.9044\n",
      "val_f1: 0.272315 — val_precision: 0.678392 — val_recall 0.170347\n",
      "Epoch 4/50\n",
      "6792/6792 [==============================] - 47s 7ms/step - loss: 0.2518 - acc: 0.9025 - val_loss: 0.2476 - val_acc: 0.9062\n",
      "val_f1: 0.307918 — val_precision: 0.683297 — val_recall 0.198738\n",
      "Epoch 5/50\n",
      "6792/6792 [==============================] - 49s 7ms/step - loss: 0.2375 - acc: 0.9074 - val_loss: 0.2423 - val_acc: 0.9108\n",
      "val_f1: 0.419647 — val_precision: 0.661685 — val_recall 0.307256\n",
      "Epoch 6/50\n",
      "6792/6792 [==============================] - 47s 7ms/step - loss: 0.2284 - acc: 0.9112 - val_loss: 0.2334 - val_acc: 0.9120\n",
      "val_f1: 0.425918 — val_precision: 0.675342 — val_recall 0.311041\n",
      "Epoch 7/50\n",
      "6792/6792 [==============================] - 46s 7ms/step - loss: 0.2208 - acc: 0.9139 - val_loss: 0.2309 - val_acc: 0.9129\n",
      "val_f1: 0.459070 — val_precision: 0.659574 — val_recall 0.352050\n",
      "Epoch 8/50\n",
      "6792/6792 [==============================] - 48s 7ms/step - loss: 0.2135 - acc: 0.9165 - val_loss: 0.2263 - val_acc: 0.9140\n",
      "val_f1: 0.470012 — val_precision: 0.665127 — val_recall 0.363407\n",
      "Epoch 9/50\n",
      "6792/6792 [==============================] - 46s 7ms/step - loss: 0.2075 - acc: 0.9188 - val_loss: 0.2228 - val_acc: 0.9163\n",
      "val_f1: 0.485761 — val_precision: 0.683849 — val_recall 0.376656\n",
      "Epoch 10/50\n",
      "6792/6792 [==============================] - 47s 7ms/step - loss: 0.2015 - acc: 0.9207 - val_loss: 0.2232 - val_acc: 0.9154\n",
      "val_f1: 0.481331 — val_precision: 0.674630 — val_recall 0.374132\n",
      "Epoch 11/50\n",
      "6792/6792 [==============================] - 47s 7ms/step - loss: 0.1960 - acc: 0.9232 - val_loss: 0.2205 - val_acc: 0.9177\n",
      "val_f1: 0.504389 — val_precision: 0.686211 — val_recall 0.398738\n",
      "Epoch 12/50\n",
      "6792/6792 [==============================] - 46s 7ms/step - loss: 0.1899 - acc: 0.9252 - val_loss: 0.2207 - val_acc: 0.9174\n",
      "val_f1: 0.507698 — val_precision: 0.678270 — val_recall 0.405678\n",
      "Epoch 13/50\n",
      "6792/6792 [==============================] - 47s 7ms/step - loss: 0.1852 - acc: 0.9268 - val_loss: 0.2223 - val_acc: 0.9171\n",
      "val_f1: 0.517348 — val_precision: 0.665015 — val_recall 0.423344\n",
      "Epoch 14/50\n",
      "6792/6792 [==============================] - 48s 7ms/step - loss: 0.1763 - acc: 0.9306 - val_loss: 0.2188 - val_acc: 0.9177\n",
      "val_f1: 0.517107 — val_precision: 0.673759 — val_recall 0.419558\n",
      "Epoch 15/50\n",
      "6792/6792 [==============================] - 46s 7ms/step - loss: 0.1702 - acc: 0.9327 - val_loss: 0.2210 - val_acc: 0.9170\n",
      "val_f1: 0.518433 — val_precision: 0.662414 — val_recall 0.425868\n",
      "Epoch 16/50\n",
      "6792/6792 [==============================] - 47s 7ms/step - loss: 0.1620 - acc: 0.9364 - val_loss: 0.2249 - val_acc: 0.9161\n",
      "val_f1: 0.507961 — val_precision: 0.660606 — val_recall 0.412618\n",
      "Epoch 17/50\n",
      "6792/6792 [==============================] - 46s 7ms/step - loss: 0.1585 - acc: 0.9375 - val_loss: 0.2285 - val_acc: 0.9164\n",
      "val_f1: 0.511610 — val_precision: 0.661662 — val_recall 0.417035\n",
      "Epoch 18/50\n",
      "6792/6792 [==============================] - 49s 7ms/step - loss: 0.1493 - acc: 0.9412 - val_loss: 0.2272 - val_acc: 0.9152\n",
      "val_f1: 0.520599 — val_precision: 0.640553 — val_recall 0.438486\n",
      "Epoch 19/50\n",
      "6792/6792 [==============================] - 46s 7ms/step - loss: 0.1404 - acc: 0.9449 - val_loss: 0.2364 - val_acc: 0.9116\n",
      "val_f1: 0.504270 — val_precision: 0.612816 — val_recall 0.428391\n",
      "Epoch 20/50\n",
      "6792/6792 [==============================] - 46s 7ms/step - loss: 0.1338 - acc: 0.9479 - val_loss: 0.2398 - val_acc: 0.9143\n",
      "val_f1: 0.521450 — val_precision: 0.630027 — val_recall 0.444795\n",
      "Epoch 21/50\n",
      "6792/6792 [==============================] - 50s 7ms/step - loss: 0.1261 - acc: 0.9515 - val_loss: 0.2449 - val_acc: 0.9122\n",
      "val_f1: 0.524731 — val_precision: 0.607469 — val_recall 0.461830\n",
      "Epoch 22/50\n",
      "6792/6792 [==============================] - 49s 7ms/step - loss: 0.1186 - acc: 0.9549 - val_loss: 0.2528 - val_acc: 0.9119\n",
      "Epoch 21: early stopping by F1\n",
      "val_f1: 0.492179 — val_precision: 0.622587 — val_recall 0.406940\n"
     ]
    }
   ],
   "source": [
    "second_model_history = second_model.fit(second_model_train_set_input, second_model_train_set_y_true, validation_split=0.1, batch_size=128, epochs=50, callbacks=second_model_metrics)"
   ]
  },
  {
   "cell_type": "code",
   "execution_count": 73,
   "metadata": {},
   "outputs": [],
   "source": [
    "# Reload best weights for the model\n",
    "second_model.load_weights(second_model_weights_path)"
   ]
  },
  {
   "cell_type": "code",
   "execution_count": 74,
   "metadata": {},
   "outputs": [],
   "source": [
    "second_model_test_set_y_pred = get_output(second_model.predict(second_model_test_set_input), OUTPUT_ACTIVATION_THRESHOLD)\n",
    "\n",
    "second_model_test_set_precision, second_model_test_set_recall, second_model_test_set_f1, support = precision_recall_fscore_support(second_model_test_set_y_true, second_model_test_set_y_pred, average=\"micro\")"
   ]
  },
  {
   "cell_type": "code",
   "execution_count": 75,
   "metadata": {},
   "outputs": [
    {
     "data": {
      "image/png": "[encoded data removed]",
      "text/plain": [
       "<Figure size 432x288 with 1 Axes>"
      ]
     },
     "metadata": {},
     "output_type": "display_data"
    }
   ],
   "source": [
    "SECOND_MODEL_COLOR = \"#00cc00\"\n",
    "\n",
    "colors = [REFERENCE_MODEL_COLOR, FIRST_MODEL_COLOR, SECOND_MODEL_COLOR]\n",
    "\n",
    "labels = [\"Precision Reference Model\", \"Precision LSTM 1\", \"Precision LSTM 2\"]\n",
    "data = [reference_model_test_set_precision, first_model_test_set_precision, second_model_test_set_precision]\n",
    "title = \"Precision on Test Set data.\"\n",
    "\n",
    "plot_barchart(labels, data, title, colors=colors)"
   ]
  },
  {
   "cell_type": "code",
   "execution_count": 76,
   "metadata": {},
   "outputs": [
    {
     "data": {
      "image/png": "[encoded data removed]",
      "text/plain": [
       "<Figure size 432x288 with 1 Axes>"
      ]
     },
     "metadata": {},
     "output_type": "display_data"
    }
   ],
   "source": [
    "labels = [\"Recall Simple Model\", \"Recall LSTM 1\", \"Recall LSTM 2\"]\n",
    "data = [reference_model_test_set_recall, first_model_test_set_recall, second_model_test_set_recall]\n",
    "title = \"Recall on Test Set data\"\n",
    "\n",
    "plot_barchart(labels, data, title, colors=colors)"
   ]
  },
  {
   "cell_type": "code",
   "execution_count": 77,
   "metadata": {},
   "outputs": [
    {
     "data": {
      "image/png": "[encoded data removed]",
      "text/plain": [
       "<Figure size 432x288 with 1 Axes>"
      ]
     },
     "metadata": {},
     "output_type": "display_data"
    }
   ],
   "source": [
    "labels = [\"F1 Score Simple Model\", \"F1 Score LSTM 1\", \"F1 Score LSTM 2\"]\n",
    "data = [reference_model_test_set_f1, first_model_test_set_f1, second_model_test_set_f1]\n",
    "title = \"F1 Score on Test Set data\"\n",
    "\n",
    "plot_barchart(labels, data, title, colors=colors)"
   ]
  },
  {
   "cell_type": "markdown",
   "metadata": {},
   "source": [
    "## Step 7.2: Learning W2V\n",
    "\n",
    "In this section we're going to understand if the model can perform better if the embeddings are learned from the set of documents."
   ]
  },
  {
   "cell_type": "code",
   "execution_count": 78,
   "metadata": {},
   "outputs": [],
   "source": [
    "texts = [x.split(\" \") for x in train_set.loc[:, \"new_abstract\"].tolist()]\n",
    "texts += [x.split(\" \") for x in test_set.loc[:, \"new_abstract\"].tolist()]"
   ]
  },
  {
   "cell_type": "code",
   "execution_count": 79,
   "metadata": {},
   "outputs": [
    {
     "data": {
      "text/plain": [
       "(9146931, 9258320)"
      ]
     },
     "execution_count": 79,
     "metadata": {},
     "output_type": "execute_result"
    }
   ],
   "source": [
    "import gensim\n",
    "\n",
    "gensim_model = gensim.models.Word2Vec(texts, size=VECTOR_DIMENSION, window=5, min_count=1, workers=15)\n",
    "\n",
    "gensim_model.train(texts, total_examples=len(texts), epochs=10)"
   ]
  },
  {
   "cell_type": "code",
   "execution_count": 80,
   "metadata": {},
   "outputs": [
    {
     "data": {
      "text/plain": [
       "[(u'technology', 0.8601065874099731),\n",
       " (u'instruments', 0.7416857481002808),\n",
       " (u'next-generation', 0.7276021242141724),\n",
       " (u'opportunities', 0.6897273063659668),\n",
       " (u'chemistries', 0.6851626038551331),\n",
       " (u'initiatives', 0.6585091352462769),\n",
       " (u'era', 0.6563058495521545),\n",
       " (u'possibilities', 0.6475269794464111),\n",
       " (u'routine', 0.6372830867767334),\n",
       " (u'informatics', 0.6342403888702393)]"
      ]
     },
     "execution_count": 80,
     "metadata": {},
     "output_type": "execute_result"
    }
   ],
   "source": [
    "gensim_model.wv.most_similar(positive=[\"technologies\"])"
   ]
  },
  {
   "cell_type": "code",
   "execution_count": 81,
   "metadata": {},
   "outputs": [
    {
     "name": "stdout",
     "output_type": "stream",
     "text": [
      "(61368, 0, 0.0)\n"
     ]
    }
   ],
   "source": [
    "embedding_matrix_3 = build_embedding_matrix(my_vocabulary_abstract, gensim_model.wv, VECTOR_DIMENSION)\n",
    "\n",
    "print_vocabulary_stats(my_vocabulary_abstract)"
   ]
  },
  {
   "cell_type": "code",
   "execution_count": 82,
   "metadata": {},
   "outputs": [],
   "source": [
    "third_model = get_model(my_vocabulary_abstract, MAX_SENTENCE_LEN, VECTOR_DIMENSION, TOP_N_TAGS, embedding_matrix_3)"
   ]
  },
  {
   "cell_type": "code",
   "execution_count": 83,
   "metadata": {},
   "outputs": [],
   "source": [
    "third_model_weights_path = \"third_model_weights.hdf5\"\n",
    "third_model_early_stop_by_f1 = EarlyStopByF1(OUTPUT_ACTIVATION_THRESHOLD, F1_PATIENCE, F1_BETA, third_model_weights_path)\n",
    "\n",
    "third_model_metrics = [third_model_early_stop_by_f1]"
   ]
  },
  {
   "cell_type": "code",
   "execution_count": 181,
   "metadata": {},
   "outputs": [
    {
     "name": "stdout",
     "output_type": "stream",
     "text": [
      "Train on 6792 samples, validate on 755 samples\n",
      "Epoch 1/50\n",
      "6792/6792 [==============================] - 49s 7ms/step - loss: 0.3222 - acc: 0.8821 - val_loss: 0.2773 - val_acc: 0.8987\n",
      "val_f1: 0.156646 — val_precision: 0.622807 — val_recall 0.089590\n",
      "Epoch 2/50\n",
      "6792/6792 [==============================] - 45s 7ms/step - loss: 0.2664 - acc: 0.8994 - val_loss: 0.2503 - val_acc: 0.9063\n",
      "val_f1: 0.309419 — val_precision: 0.683190 — val_recall 0.200000\n",
      "Epoch 3/50\n",
      "6792/6792 [==============================] - 47s 7ms/step - loss: 0.2444 - acc: 0.9064 - val_loss: 0.2399 - val_acc: 0.9103\n",
      "val_f1: 0.399113 — val_precision: 0.671642 — val_recall 0.283912\n",
      "Epoch 4/50\n",
      "6792/6792 [==============================] - 45s 7ms/step - loss: 0.2320 - acc: 0.9108 - val_loss: 0.2321 - val_acc: 0.9147\n",
      "val_f1: 0.415608 — val_precision: 0.739903 — val_recall 0.288959\n",
      "Epoch 5/50\n",
      "6792/6792 [==============================] - 47s 7ms/step - loss: 0.2240 - acc: 0.9129 - val_loss: 0.2246 - val_acc: 0.9163\n",
      "val_f1: 0.451865 — val_precision: 0.722607 — val_recall 0.328707\n",
      "Epoch 6/50\n",
      "6792/6792 [==============================] - 46s 7ms/step - loss: 0.2169 - acc: 0.9155 - val_loss: 0.2237 - val_acc: 0.9170\n",
      "val_f1: 0.492718 — val_precision: 0.686584 — val_recall 0.384227\n",
      "Epoch 7/50\n",
      "6792/6792 [==============================] - 46s 7ms/step - loss: 0.2125 - acc: 0.9174 - val_loss: 0.2211 - val_acc: 0.9182\n",
      "val_f1: 0.507772 — val_precision: 0.689394 — val_recall 0.401893\n",
      "Epoch 8/50\n",
      "6792/6792 [==============================] - 46s 7ms/step - loss: 0.2058 - acc: 0.9189 - val_loss: 0.2236 - val_acc: 0.9177\n",
      "val_f1: 0.481435 — val_precision: 0.710591 — val_recall 0.364038\n",
      "Epoch 9/50\n",
      "6792/6792 [==============================] - 48s 7ms/step - loss: 0.2009 - acc: 0.9211 - val_loss: 0.2207 - val_acc: 0.9175\n",
      "val_f1: 0.518547 — val_precision: 0.668993 — val_recall 0.423344\n",
      "Epoch 10/50\n",
      "6792/6792 [==============================] - 46s 7ms/step - loss: 0.1967 - acc: 0.9229 - val_loss: 0.2195 - val_acc: 0.9178\n",
      "val_f1: 0.530102 — val_precision: 0.662879 — val_recall 0.441640\n",
      "Epoch 11/50\n",
      "6792/6792 [==============================] - 46s 7ms/step - loss: 0.1903 - acc: 0.9249 - val_loss: 0.2197 - val_acc: 0.9197\n",
      "val_f1: 0.526726 — val_precision: 0.690184 — val_recall 0.425868\n",
      "Epoch 12/50\n",
      "6792/6792 [==============================] - 49s 7ms/step - loss: 0.1881 - acc: 0.9256 - val_loss: 0.2207 - val_acc: 0.9178\n",
      "val_f1: 0.530102 — val_precision: 0.662879 — val_recall 0.441640\n",
      "Epoch 13/50\n",
      "6792/6792 [==============================] - 54s 8ms/step - loss: 0.1819 - acc: 0.9278 - val_loss: 0.2219 - val_acc: 0.9201\n",
      "val_f1: 0.519698 — val_precision: 0.703664 — val_recall 0.411987\n",
      "Epoch 14/50\n",
      "6792/6792 [==============================] - 46s 7ms/step - loss: 0.1749 - acc: 0.9309 - val_loss: 0.2229 - val_acc: 0.9172\n",
      "val_f1: 0.542794 — val_precision: 0.645779 — val_recall 0.468139\n",
      "Epoch 15/50\n",
      "6792/6792 [==============================] - 47s 7ms/step - loss: 0.1691 - acc: 0.9332 - val_loss: 0.2264 - val_acc: 0.9153\n",
      "val_f1: 0.525065 — val_precision: 0.638087 — val_recall 0.446057\n",
      "Epoch 16/50\n",
      "6792/6792 [==============================] - 47s 7ms/step - loss: 0.1621 - acc: 0.9360 - val_loss: 0.2275 - val_acc: 0.9176\n",
      "val_f1: 0.522273 — val_precision: 0.667321 — val_recall 0.429022\n",
      "Epoch 17/50\n",
      "6792/6792 [==============================] - 48s 7ms/step - loss: 0.1570 - acc: 0.9379 - val_loss: 0.2318 - val_acc: 0.9153\n",
      "val_f1: 0.525769 — val_precision: 0.637590 — val_recall 0.447319\n",
      "Epoch 18/50\n",
      "6792/6792 [==============================] - 46s 7ms/step - loss: 0.1511 - acc: 0.9402 - val_loss: 0.2327 - val_acc: 0.9136\n",
      "val_f1: 0.521803 — val_precision: 0.622378 — val_recall 0.449211\n",
      "Epoch 19/50\n",
      "6792/6792 [==============================] - 47s 7ms/step - loss: 0.1476 - acc: 0.9420 - val_loss: 0.2376 - val_acc: 0.9141\n",
      "val_f1: 0.529220 — val_precision: 0.623077 — val_recall 0.459937\n",
      "Epoch 20/50\n",
      "6792/6792 [==============================] - 47s 7ms/step - loss: 0.1375 - acc: 0.9463 - val_loss: 0.2415 - val_acc: 0.9140\n",
      "val_f1: 0.531216 — val_precision: 0.620573 — val_recall 0.464353\n",
      "Epoch 21/50\n",
      "6792/6792 [==============================] - 49s 7ms/step - loss: 0.1390 - acc: 0.9454 - val_loss: 0.2423 - val_acc: 0.9159\n",
      "val_f1: 0.516375 — val_precision: 0.651297 — val_recall 0.427760\n",
      "Epoch 22/50\n",
      "6792/6792 [==============================] - 49s 7ms/step - loss: 0.1260 - acc: 0.9514 - val_loss: 0.2478 - val_acc: 0.9139\n",
      "val_f1: 0.530007 — val_precision: 0.620660 — val_recall 0.462461\n",
      "Epoch 23/50\n",
      "6792/6792 [==============================] - 46s 7ms/step - loss: 0.1226 - acc: 0.9532 - val_loss: 0.2549 - val_acc: 0.9121\n",
      "val_f1: 0.512839 — val_precision: 0.612621 — val_recall 0.441009\n",
      "Epoch 24/50\n",
      "6792/6792 [==============================] - 46s 7ms/step - loss: 0.1157 - acc: 0.9557 - val_loss: 0.2578 - val_acc: 0.9134\n",
      "val_f1: 0.523167 — val_precision: 0.620242 — val_recall 0.452366\n",
      "Epoch 25/50\n",
      "6792/6792 [==============================] - 50s 7ms/step - loss: 0.1087 - acc: 0.9588 - val_loss: 0.2617 - val_acc: 0.9097\n",
      "val_f1: 0.517522 — val_precision: 0.589516 — val_recall 0.461199\n",
      "Epoch 26/50\n",
      "6792/6792 [==============================] - 47s 7ms/step - loss: 0.1013 - acc: 0.9626 - val_loss: 0.2685 - val_acc: 0.9112\n",
      "Epoch 25: early stopping by F1\n",
      "val_f1: 0.499814 — val_precision: 0.611314 — val_recall 0.422713\n"
     ]
    }
   ],
   "source": [
    "# in this network model the input are the same for the previous model...\n",
    "third_model_history = third_model.fit(second_model_train_set_input, second_model_train_set_y_true, validation_split=0.1, batch_size=128, epochs=50, callbacks=third_model_metrics)"
   ]
  },
  {
   "cell_type": "code",
   "execution_count": 84,
   "metadata": {},
   "outputs": [],
   "source": [
    "# Reload best weights for the model\n",
    "third_model.load_weights(third_model_weights_path)\n",
    "\n",
    "# in this network model the input are the same for the previous model...\n",
    "third_model_test_set_y_pred = get_output(third_model.predict(second_model_test_set_input), OUTPUT_ACTIVATION_THRESHOLD)\n",
    "\n",
    "third_model_test_set_precision, third_model_test_set_recall, third_model_test_set_f1, support = precision_recall_fscore_support(second_model_test_set_y_true, third_model_test_set_y_pred, average=\"micro\")"
   ]
  },
  {
   "cell_type": "code",
   "execution_count": 85,
   "metadata": {},
   "outputs": [
    {
     "data": {
      "image/png": "[encoded data removed]",
      "text/plain": [
       "<Figure size 432x288 with 1 Axes>"
      ]
     },
     "metadata": {},
     "output_type": "display_data"
    }
   ],
   "source": [
    "THIRD_MODEL_COLOR = \"#c156ef\"\n",
    "\n",
    "colors = [REFERENCE_MODEL_COLOR, FIRST_MODEL_COLOR, SECOND_MODEL_COLOR, THIRD_MODEL_COLOR]\n",
    "\n",
    "labels = [\"Precision Reference Model\", \"Precision LSTM 1\", \"Precision LSTM 2\", \"Precision LSTM 3\"]\n",
    "data = [reference_model_test_set_precision, first_model_test_set_precision, second_model_test_set_precision, third_model_test_set_precision]\n",
    "title = \"Precision on Test Set data.\"\n",
    "\n",
    "plot_barchart(labels, data, title, colors=colors)"
   ]
  },
  {
   "cell_type": "code",
   "execution_count": 86,
   "metadata": {},
   "outputs": [
    {
     "data": {
      "image/png": "[encoded data removed]",
      "text/plain": [
       "<Figure size 432x288 with 1 Axes>"
      ]
     },
     "metadata": {},
     "output_type": "display_data"
    }
   ],
   "source": [
    "labels = [\"Recall Reference Model\", \"Recall LSTM 1\", \"Recall LSTM 2\", \"Recall LSTM 3\"]\n",
    "data = [reference_model_test_set_recall, first_model_test_set_recall, second_model_test_set_recall, third_model_test_set_recall]\n",
    "title = \"Recall on Test Set data\"\n",
    "\n",
    "plot_barchart(labels, data, title, colors=colors)"
   ]
  },
  {
   "cell_type": "code",
   "execution_count": 87,
   "metadata": {},
   "outputs": [
    {
     "data": {
      "image/png": "[encoded data removed]",
      "text/plain": [
       "<Figure size 432x288 with 1 Axes>"
      ]
     },
     "metadata": {},
     "output_type": "display_data"
    }
   ],
   "source": [
    "labels = [\"F1 Score Reference Model\", \"F1 Score LSTM 1\", \"F1 Score LSTM\", \"F1 Score LSTM 3\"]\n",
    "data = [reference_model_test_set_f1, first_model_test_set_f1, second_model_test_set_f1, third_model_test_set_f1]\n",
    "title = \"F1 Score on Test Set data\"\n",
    "\n",
    "plot_barchart(labels, data, title, colors=colors)"
   ]
  },
  {
   "cell_type": "markdown",
   "metadata": {},
   "source": [
    "## Step 7.3: Better representation of the words\n",
    "\n",
    "The aim of thi setion is to understand if, given a better ditionary, made of stem instead of words we're going to have better performances of the models\n"
   ]
  },
  {
   "cell_type": "code",
   "execution_count": 88,
   "metadata": {},
   "outputs": [],
   "source": [
    "from nltk.stem.porter import *\n",
    "from nltk.tokenize import RegexpTokenizer\n",
    "\n",
    "stemmer = PorterStemmer()\n",
    "\n",
    "def preprocess_text(text, stemmer=None):\n",
    "    words_filtered = []\n",
    "    punctuation_remover = RegexpTokenizer(r'\\w+')\n",
    "    text = punctuation_remover.tokenize(text)\n",
    "    for i, w in enumerate(text):     \n",
    "        w = w.lower()\n",
    "        if w not in stop_words and len(w) > 2 :\n",
    "            if stemmer is not None:\n",
    "                w = stemmer.stem(w)\n",
    "            words_filtered.append(w)   \n",
    "            \n",
    "    return \" \".join(words_filtered)   \n"
   ]
  },
  {
   "cell_type": "code",
   "execution_count": 89,
   "metadata": {},
   "outputs": [],
   "source": [
    "articles[\"abstract_stems\"] = articles.loc[:, \"raw.abstract\"].apply(preprocess_text, args=(stemmer,))\n",
    "\n",
    "texts = [x.split(\" \") for x in articles.loc[:, \"abstract_stems\"].tolist()]"
   ]
  },
  {
   "cell_type": "code",
   "execution_count": 90,
   "metadata": {},
   "outputs": [
    {
     "data": {
      "text/plain": [
       "(18306516, 18977530)"
      ]
     },
     "execution_count": 90,
     "metadata": {},
     "output_type": "execute_result"
    }
   ],
   "source": [
    "gensim_model = gensim.models.Word2Vec(texts, size=VECTOR_DIMENSION, window=5, min_count=1, workers=15)\n",
    "\n",
    "gensim_model.train(texts, total_examples=len(texts), epochs=10)"
   ]
  },
  {
   "cell_type": "code",
   "execution_count": 91,
   "metadata": {},
   "outputs": [],
   "source": [
    "my_vocabulary_stem = {}\n",
    "id_to_stem = {}"
   ]
  },
  {
   "cell_type": "code",
   "execution_count": 92,
   "metadata": {},
   "outputs": [],
   "source": [
    "articles_top_tag.loc[:, 'abstract_stems' ] = articles_top_tag.loc[:, \"raw.abstract\"].apply(preprocess_text, args=(stemmer,))\n",
    "\n",
    "articles_top_tag.loc[:, \"abstract_stems\"].apply(create_vocabulary, args=(my_vocabulary_stem, id_to_stem,))\n",
    "\n",
    "articles_top_tag.loc[:, 'new_abstract_stem_ids'] = articles_top_tag.loc[:, \"abstract_stems\"].apply(get_article_words_ids, args=(my_vocabulary_stem,))"
   ]
  },
  {
   "cell_type": "code",
   "execution_count": 93,
   "metadata": {},
   "outputs": [],
   "source": [
    "embedding_matrix_4 = build_embedding_matrix(my_vocabulary_stem, gensim_model.wv, VECTOR_DIMENSION)"
   ]
  },
  {
   "cell_type": "code",
   "execution_count": 94,
   "metadata": {},
   "outputs": [
    {
     "name": "stdout",
     "output_type": "stream",
     "text": [
      "(30026, 0, 0.0)\n"
     ]
    }
   ],
   "source": [
    "print_vocabulary_stats(my_vocabulary_stem)"
   ]
  },
  {
   "cell_type": "code",
   "execution_count": 95,
   "metadata": {},
   "outputs": [
    {
     "name": "stdout",
     "output_type": "stream",
     "text": [
      "(5327, 5327, 113)\n"
     ]
    }
   ],
   "source": [
    "MAX_ABSTRACT_STEM_LEN = len(max(articles_top_tag[\"new_abstract_stem_ids\"].tolist(), key=len))\n",
    "\n",
    "MIN_ABSTRACT_STEM_LEN = len(max(articles_top_tag[\"new_abstract_stem_ids\"].tolist(), key=len))\n",
    "\n",
    "AVG_ABSTRACT_STEM_LEN = [len(x) for x in articles_top_tag[\"new_abstract_stem_ids\"].tolist()]\n",
    "AVG_ABSTRACT_STEM_LEN = sum(AVG_ABSTRACT_STEM_LEN) / len(AVG_ABSTRACT_STEM_LEN)\n",
    "\n",
    "print(MAX_ABSTRACT_STEM_LEN, MIN_ABSTRACT_STEM_LEN, AVG_ABSTRACT_STEM_LEN)"
   ]
  },
  {
   "cell_type": "code",
   "execution_count": 96,
   "metadata": {},
   "outputs": [],
   "source": [
    "MAX_SENTENCE_LEN = 100"
   ]
  },
  {
   "cell_type": "code",
   "execution_count": 97,
   "metadata": {},
   "outputs": [],
   "source": [
    "articles_top_tag.loc[:, \"new_abstract_stems_id_padded\" ] = articles_top_tag.loc[:, \"new_abstract_stem_ids\"].apply(pad_title, args=(MAX_SENTENCE_LEN,))"
   ]
  },
  {
   "cell_type": "code",
   "execution_count": 98,
   "metadata": {},
   "outputs": [
    {
     "name": "stdout",
     "output_type": "stream",
     "text": [
      "_________________________________________________________________\n",
      "Layer (type)                 Output Shape              Param #   \n",
      "=================================================================\n",
      "input_4 (InputLayer)         (None, 100)               0         \n",
      "_________________________________________________________________\n",
      "embedding_4 (Embedding)      (None, 100, 300)          9008100   \n",
      "_________________________________________________________________\n",
      "lstm_4 (LSTM)                (None, 300)               721200    \n",
      "_________________________________________________________________\n",
      "dense_4 (Dense)              (None, 20)                6020      \n",
      "=================================================================\n",
      "Total params: 9,735,320\n",
      "Trainable params: 727,220\n",
      "Non-trainable params: 9,008,100\n",
      "_________________________________________________________________\n"
     ]
    }
   ],
   "source": [
    "train_set, test_set = train_test_split(articles_top_tag, test_size=0.1, shuffle=True, random_state=1993)\n",
    "\n",
    "# Second model train set input and y_true\n",
    "fourth_model_train_set_input =  np.array(train_set.loc[:, \"new_abstract_stems_id_padded\"].tolist())\n",
    "fourth_model_train_set_y_true =  np.array(train_set.loc[:, \"y_true\"].tolist())\n",
    "\n",
    "# Second model test set input and y_true\n",
    "fourth_model_test_set_input = np.array(test_set.loc[:, \"new_abstract_stems_id_padded\"].tolist())\n",
    "fourth_model_test_set_y_true = np.array(test_set.loc[:, \"y_true\"].tolist())\n",
    "\n",
    "fourth_model = get_model(my_vocabulary_stem, MAX_SENTENCE_LEN, VECTOR_DIMENSION, TOP_N_TAGS, embedding_matrix_4)\n",
    "\n",
    "fourth_model.summary()"
   ]
  },
  {
   "cell_type": "code",
   "execution_count": 99,
   "metadata": {},
   "outputs": [],
   "source": [
    "fourth_model_weights_path = \"fourth_model_weights.hdf5\"\n",
    "fourth_model_early_stop_by_f1 = EarlyStopByF1(OUTPUT_ACTIVATION_THRESHOLD, F1_PATIENCE, F1_BETA, fourth_model_weights_path)\n",
    "\n",
    "fourth_model_metrics = [fourth_model_early_stop_by_f1]"
   ]
  },
  {
   "cell_type": "code",
   "execution_count": 202,
   "metadata": {},
   "outputs": [
    {
     "name": "stdout",
     "output_type": "stream",
     "text": [
      "Train on 6792 samples, validate on 755 samples\n",
      "Epoch 1/50\n",
      "6792/6792 [==============================] - 46s 7ms/step - loss: 0.3271 - acc: 0.8817 - val_loss: 0.2763 - val_acc: 0.8966\n",
      "val_f1: 0.188248 — val_precision: 0.535503 — val_recall 0.114196\n",
      "Epoch 2/50\n",
      "6792/6792 [==============================] - 46s 7ms/step - loss: 0.2633 - acc: 0.9003 - val_loss: 0.2475 - val_acc: 0.9060\n",
      "val_f1: 0.343201 — val_precision: 0.642981 — val_recall 0.234069\n",
      "Epoch 3/50\n",
      "6792/6792 [==============================] - 46s 7ms/step - loss: 0.2388 - acc: 0.9076 - val_loss: 0.2327 - val_acc: 0.9123\n",
      "val_f1: 0.441350 — val_precision: 0.666242 — val_recall 0.329968\n",
      "Epoch 4/50\n",
      "6792/6792 [==============================] - 47s 7ms/step - loss: 0.2238 - acc: 0.9128 - val_loss: 0.2269 - val_acc: 0.9152\n",
      "val_f1: 0.465776 — val_precision: 0.688039 — val_recall 0.352050\n",
      "Epoch 5/50\n",
      "6792/6792 [==============================] - 46s 7ms/step - loss: 0.2136 - acc: 0.9174 - val_loss: 0.2212 - val_acc: 0.9170\n",
      "val_f1: 0.495169 — val_precision: 0.684093 — val_recall 0.388013\n",
      "Epoch 6/50\n",
      "6792/6792 [==============================] - 47s 7ms/step - loss: 0.2048 - acc: 0.9201 - val_loss: 0.2193 - val_acc: 0.9188\n",
      "val_f1: 0.505246 — val_precision: 0.701008 — val_recall 0.394953\n",
      "Epoch 7/50\n",
      "6792/6792 [==============================] - 47s 7ms/step - loss: 0.1963 - acc: 0.9229 - val_loss: 0.2158 - val_acc: 0.9185\n",
      "val_f1: 0.508786 — val_precision: 0.693145 — val_recall 0.401893\n",
      "Epoch 8/50\n",
      "6792/6792 [==============================] - 46s 7ms/step - loss: 0.1889 - acc: 0.9251 - val_loss: 0.2183 - val_acc: 0.9164\n",
      "val_f1: 0.523576 — val_precision: 0.651032 — val_recall 0.437855\n",
      "Epoch 9/50\n",
      "6792/6792 [==============================] - 47s 7ms/step - loss: 0.1816 - acc: 0.9283 - val_loss: 0.2186 - val_acc: 0.9198\n",
      "val_f1: 0.516181 — val_precision: 0.703704 — val_recall 0.407571\n",
      "Epoch 10/50\n",
      "6792/6792 [==============================] - 46s 7ms/step - loss: 0.1728 - acc: 0.9319 - val_loss: 0.2189 - val_acc: 0.9181\n",
      "val_f1: 0.528403 — val_precision: 0.667630 — val_recall 0.437224\n",
      "Epoch 11/50\n",
      "6792/6792 [==============================] - 46s 7ms/step - loss: 0.1664 - acc: 0.9342 - val_loss: 0.2197 - val_acc: 0.9174\n",
      "val_f1: 0.524027 — val_precision: 0.662488 — val_recall 0.433438\n",
      "Epoch 12/50\n",
      "6792/6792 [==============================] - 47s 7ms/step - loss: 0.1565 - acc: 0.9383 - val_loss: 0.2265 - val_acc: 0.9164\n",
      "val_f1: 0.512741 — val_precision: 0.660697 — val_recall 0.418927\n",
      "Epoch 13/50\n",
      "6792/6792 [==============================] - 46s 7ms/step - loss: 0.1491 - acc: 0.9417 - val_loss: 0.2256 - val_acc: 0.9170\n",
      "val_f1: 0.531740 — val_precision: 0.651418 — val_recall 0.449211\n",
      "Epoch 14/50\n",
      "6792/6792 [==============================] - 45s 7ms/step - loss: 0.1403 - acc: 0.9454 - val_loss: 0.2315 - val_acc: 0.9134\n",
      "val_f1: 0.530510 — val_precision: 0.615321 — val_recall 0.466246\n",
      "Epoch 15/50\n",
      "6792/6792 [==============================] - 47s 7ms/step - loss: 0.1308 - acc: 0.9495 - val_loss: 0.2329 - val_acc: 0.9146\n",
      "val_f1: 0.525037 — val_precision: 0.630416 — val_recall 0.449842\n",
      "Epoch 16/50\n",
      "6792/6792 [==============================] - 46s 7ms/step - loss: 0.1224 - acc: 0.9529 - val_loss: 0.2415 - val_acc: 0.9135\n",
      "val_f1: 0.530216 — val_precision: 0.616736 — val_recall 0.464984\n",
      "Epoch 17/50\n",
      "6792/6792 [==============================] - 46s 7ms/step - loss: 0.1145 - acc: 0.9568 - val_loss: 0.2455 - val_acc: 0.9143\n",
      "val_f1: 0.520030 — val_precision: 0.630963 — val_recall 0.442271\n",
      "Epoch 18/50\n",
      "6792/6792 [==============================] - 47s 7ms/step - loss: 0.1051 - acc: 0.9611 - val_loss: 0.2493 - val_acc: 0.9123\n",
      "val_f1: 0.520101 — val_precision: 0.610544 — val_recall 0.452997\n",
      "Epoch 19/50\n",
      "6792/6792 [==============================] - 48s 7ms/step - loss: 0.0971 - acc: 0.9646 - val_loss: 0.2567 - val_acc: 0.9124\n",
      "val_f1: 0.523587 — val_precision: 0.609899 — val_recall 0.458675\n",
      "Epoch 20/50\n",
      "6792/6792 [==============================] - 47s 7ms/step - loss: 0.0843 - acc: 0.9712 - val_loss: 0.2658 - val_acc: 0.9126\n",
      "val_f1: 0.515252 — val_precision: 0.617077 — val_recall 0.442271\n",
      "Epoch 21/50\n",
      "6792/6792 [==============================] - 46s 7ms/step - loss: 0.0769 - acc: 0.9745 - val_loss: 0.2736 - val_acc: 0.9110\n",
      "val_f1: 0.527426 — val_precision: 0.595711 — val_recall 0.473186\n",
      "Epoch 22/50\n",
      "6792/6792 [==============================] - 47s 7ms/step - loss: 0.0693 - acc: 0.9781 - val_loss: 0.2815 - val_acc: 0.9097\n",
      "val_f1: 0.527229 — val_precision: 0.585516 — val_recall 0.479495\n",
      "Epoch 23/50\n",
      "6792/6792 [==============================] - 46s 7ms/step - loss: 0.0631 - acc: 0.9812 - val_loss: 0.2961 - val_acc: 0.9086\n",
      "val_f1: 0.505022 — val_precision: 0.585204 — val_recall 0.444164\n",
      "Epoch 24/50\n",
      "6792/6792 [==============================] - 47s 7ms/step - loss: 0.0577 - acc: 0.9832 - val_loss: 0.2959 - val_acc: 0.9052\n",
      "val_f1: 0.516064 — val_precision: 0.556122 — val_recall 0.481388\n",
      "Epoch 25/50\n",
      "6792/6792 [==============================] - 46s 7ms/step - loss: 0.0516 - acc: 0.9866 - val_loss: 0.3037 - val_acc: 0.9078\n",
      "val_f1: 0.509859 — val_precision: 0.576892 — val_recall 0.456782\n",
      "Epoch 26/50\n",
      "6792/6792 [==============================] - 47s 7ms/step - loss: 0.0461 - acc: 0.9887 - val_loss: 0.3168 - val_acc: 0.9073\n",
      "val_f1: 0.509460 — val_precision: 0.572892 — val_recall 0.458675\n",
      "Epoch 27/50\n",
      "6792/6792 [==============================] - 48s 7ms/step - loss: 0.0373 - acc: 0.9927 - val_loss: 0.3304 - val_acc: 0.9072\n",
      "val_f1: 0.511498 — val_precision: 0.571206 — val_recall 0.463091\n",
      "Epoch 28/50\n",
      "6792/6792 [==============================] - 46s 7ms/step - loss: 0.0343 - acc: 0.9936 - val_loss: 0.3367 - val_acc: 0.9072\n",
      "val_f1: 0.504772 — val_precision: 0.573955 — val_recall 0.450473\n",
      "Epoch 29/50\n",
      "6792/6792 [==============================] - 46s 7ms/step - loss: 0.0291 - acc: 0.9956 - val_loss: 0.3422 - val_acc: 0.9038\n",
      "val_f1: 0.503587 — val_precision: 0.549180 — val_recall 0.464984\n",
      "Epoch 30/50\n",
      "6792/6792 [==============================] - 46s 7ms/step - loss: 0.0236 - acc: 0.9977 - val_loss: 0.3553 - val_acc: 0.9065\n",
      "Epoch 29: early stopping by F1\n",
      "val_f1: 0.497509 — val_precision: 0.570612 — val_recall 0.441009\n"
     ]
    }
   ],
   "source": [
    "fourth_model_history = fourth_model.fit(fourth_model_train_set_input, fourth_model_train_set_y_true, validation_split=0.1, batch_size=128, epochs=50, callbacks=fourth_model_metrics)"
   ]
  },
  {
   "cell_type": "code",
   "execution_count": 100,
   "metadata": {},
   "outputs": [],
   "source": [
    "# Reload best weights for the model\n",
    "fourth_model.load_weights(fourth_model_weights_path)\n",
    "\n",
    "fourth_model_test_set_y_pred = get_output(fourth_model.predict(fourth_model_test_set_input), OUTPUT_ACTIVATION_THRESHOLD)\n",
    "fourth_model_test_set_precision, fourth_model_test_set_recall, fourth_model_test_set_f1, support = precision_recall_fscore_support(fourth_model_test_set_y_true, fourth_model_test_set_y_pred, average=\"micro\")"
   ]
  },
  {
   "cell_type": "code",
   "execution_count": 101,
   "metadata": {},
   "outputs": [
    {
     "data": {
      "image/png": "[encoded data removed]",
      "text/plain": [
       "<Figure size 432x288 with 1 Axes>"
      ]
     },
     "metadata": {},
     "output_type": "display_data"
    }
   ],
   "source": [
    "FOURTH_MODEL_COLOR = \"#d84354\"\n",
    "\n",
    "colors = [REFERENCE_MODEL_COLOR, FIRST_MODEL_COLOR, SECOND_MODEL_COLOR, THIRD_MODEL_COLOR, FOURTH_MODEL_COLOR]\n",
    "\n",
    "labels = [\"Precision Reference Model\", \"Precision LSTM 1\", \"Precision LSTM 2\", \"Precision LSTM 3\", \"Precision LSTM 4\"]\n",
    "data = [reference_model_test_set_precision, first_model_test_set_precision, second_model_test_set_precision, third_model_test_set_precision, fourth_model_test_set_precision]\n",
    "title = \"Precision on Test Set data.\"\n",
    "plot_barchart(labels, data, title, colors=colors)"
   ]
  },
  {
   "cell_type": "code",
   "execution_count": 102,
   "metadata": {},
   "outputs": [
    {
     "data": {
      "image/png": "[encoded data removed]",
      "text/plain": [
       "<Figure size 432x288 with 1 Axes>"
      ]
     },
     "metadata": {},
     "output_type": "display_data"
    }
   ],
   "source": [
    "labels = [\"Recall Reference Model\", \"Recall LSTM 1\", \"Recall LSTM 2\", \"Recall LSTM 3\", \"Recall LSTM 4\"]\n",
    "data = [reference_model_test_set_recall, first_model_test_set_recall, second_model_test_set_recall, third_model_test_set_recall, fourth_model_test_set_recall]\n",
    "title = \"Recall on Test Set data.\"\n",
    "plot_barchart(labels, data, title, colors=colors)"
   ]
  },
  {
   "cell_type": "code",
   "execution_count": 103,
   "metadata": {},
   "outputs": [
    {
     "data": {
      "image/png": "[encoded data removed]",
      "text/plain": [
       "<Figure size 432x288 with 1 Axes>"
      ]
     },
     "metadata": {},
     "output_type": "display_data"
    }
   ],
   "source": [
    "labels = [\"F1 Score Reference Model\", \"F1 Score LSTM 1\", \"F1 Score LSTM 2\", \"F1 Score LSTM 3\", \"F1 Score LSTM 4\"]\n",
    "data = [reference_model_test_set_f1, first_model_test_set_f1, second_model_test_set_f1, third_model_test_set_f1, fourth_model_test_set_f1]\n",
    "title = \"F1 Score on Test Set data.\"\n",
    "plot_barchart(labels, data, title, colors=colors)"
   ]
  },
  {
   "cell_type": "markdown",
   "metadata": {},
   "source": [
    "## STEP 8: GRU\n",
    "\n",
    "In this section another kind of Model is tested: the LSTM cell is replaced with a GRU cell.\n"
   ]
  },
  {
   "cell_type": "code",
   "execution_count": 106,
   "metadata": {},
   "outputs": [],
   "source": [
    "from keras.layers.recurrent import GRU\n",
    "\n",
    "def get_model_gru(vocabulary, sentence_length, vector_dimension, output_length, embedding_matrix):\n",
    "    vocabulary_size = len(vocabulary)+1\n",
    "    \n",
    "    # https://keras.io/layers/embeddings/\n",
    "    embedding_layer = Embedding(\n",
    "        vocabulary_size, # how many words are mapped into vectors\n",
    "        vector_dimension, # size of output vector dimension\n",
    "        input_length=sentence_length, # how many words in the sentence we process\n",
    "        weights=[embedding_matrix], # weights initialized from the pre-trained model\n",
    "        trainable=False) # we will not update this layer\n",
    "\n",
    "    gru_cell = GRU(vector_dimension, dropout=0.4) # number of outputs\n",
    "    \n",
    "    sentence_input = Input(shape=(sentence_length,), dtype=\"int32\") # the input takes\n",
    "    embedded_sentence = embedding_layer(sentence_input)\n",
    "    gru_layer = gru_cell(embedded_sentence)\n",
    "    \n",
    "    # deep layers\n",
    "    #deep_layer1_dim = 150\n",
    "    #deep_layer1 = Dense(deep_layer1_dim, activation=\"relu\")(lstm_layer)\n",
    "\n",
    "    #deep_layer2_dim = 50\n",
    "    #deep_layer2 = Dense(deep_layer2_dim, activation=\"relu\")(deep_layer1)\n",
    "\n",
    "    prediction = Dense(output_length, activation=\"sigmoid\")(gru_layer)\n",
    "    model = Model(inputs=[sentence_input], outputs=prediction)\n",
    "    \n",
    "    model.compile(loss=\"binary_crossentropy\", optimizer=\"adam\", metrics=[\"accuracy\"])\n",
    "    \n",
    "    return model"
   ]
  },
  {
   "cell_type": "code",
   "execution_count": 110,
   "metadata": {},
   "outputs": [
    {
     "name": "stdout",
     "output_type": "stream",
     "text": [
      "_________________________________________________________________\n",
      "Layer (type)                 Output Shape              Param #   \n",
      "=================================================================\n",
      "input_6 (InputLayer)         (None, 18)                0         \n",
      "_________________________________________________________________\n",
      "embedding_7 (Embedding)      (None, 18, 300)           3491700   \n",
      "_________________________________________________________________\n",
      "gru_2 (GRU)                  (None, 300)               540900    \n",
      "_________________________________________________________________\n",
      "dense_6 (Dense)              (None, 20)                6020      \n",
      "=================================================================\n",
      "Total params: 4,038,620\n",
      "Trainable params: 546,920\n",
      "Non-trainable params: 3,491,700\n",
      "_________________________________________________________________\n"
     ]
    }
   ],
   "source": [
    "gru_model_1 = get_model_gru(my_vocabulary, MAX_TITLE_LEN, VECTOR_DIMENSION, TOP_N_TAGS, embedding_matrix)\n",
    "gru_model_1.summary()"
   ]
  },
  {
   "cell_type": "code",
   "execution_count": 111,
   "metadata": {},
   "outputs": [],
   "source": [
    "gru_model_1_weights_path = \"gru_model_1_weights.hdf5\"\n",
    "gru_model_1_early_stop_by_f1 = EarlyStopByF1(OUTPUT_ACTIVATION_THRESHOLD, F1_PATIENCE, F1_BETA, gru_model_1_weights_path)\n",
    "gru_model_1_metrics = [gru_model_1_early_stop_by_f1]"
   ]
  },
  {
   "cell_type": "code",
   "execution_count": 112,
   "metadata": {},
   "outputs": [
    {
     "name": "stdout",
     "output_type": "stream",
     "text": [
      "Train on 6792 samples, validate on 755 samples\n",
      "Epoch 1/50\n",
      "6792/6792 [==============================] - 9s 1ms/step - loss: 0.3519 - acc: 0.8742 - val_loss: 0.2717 - val_acc: 0.9005\n",
      "val_f1: 0.169248 — val_precision: 0.686099 — val_recall 0.096530\n",
      "Epoch 2/50\n",
      "6792/6792 [==============================] - 7s 1ms/step - loss: 0.2601 - acc: 0.9025 - val_loss: 0.2460 - val_acc: 0.9083\n",
      "val_f1: 0.356113 — val_precision: 0.676678 — val_recall 0.241640\n",
      "Epoch 3/50\n",
      "6792/6792 [==============================] - 8s 1ms/step - loss: 0.2429 - acc: 0.9088 - val_loss: 0.2347 - val_acc: 0.9113\n",
      "val_f1: 0.398202 — val_precision: 0.692187 — val_recall 0.279495\n",
      "Epoch 4/50\n",
      "6792/6792 [==============================] - 7s 1ms/step - loss: 0.2341 - acc: 0.9123 - val_loss: 0.2279 - val_acc: 0.9148\n",
      "val_f1: 0.471023 — val_precision: 0.675708 — val_recall 0.361514\n",
      "Epoch 5/50\n",
      "6792/6792 [==============================] - 8s 1ms/step - loss: 0.2268 - acc: 0.9150 - val_loss: 0.2238 - val_acc: 0.9159\n",
      "val_f1: 0.460034 — val_precision: 0.705346 — val_recall 0.341325\n",
      "Epoch 6/50\n",
      "6792/6792 [==============================] - 8s 1ms/step - loss: 0.2205 - acc: 0.9165 - val_loss: 0.2208 - val_acc: 0.9180\n",
      "val_f1: 0.472743 — val_precision: 0.727392 — val_recall 0.350158\n",
      "Epoch 7/50\n",
      "6792/6792 [==============================] - 8s 1ms/step - loss: 0.2161 - acc: 0.9181 - val_loss: 0.2214 - val_acc: 0.9191\n",
      "val_f1: 0.474182 — val_precision: 0.745602 — val_recall 0.347634\n",
      "Epoch 8/50\n",
      "6792/6792 [==============================] - 8s 1ms/step - loss: 0.2111 - acc: 0.9202 - val_loss: 0.2185 - val_acc: 0.9191\n",
      "val_f1: 0.496495 — val_precision: 0.716667 — val_recall 0.379811\n",
      "Epoch 9/50\n",
      "6792/6792 [==============================] - 8s 1ms/step - loss: 0.2060 - acc: 0.9217 - val_loss: 0.2171 - val_acc: 0.9190\n",
      "val_f1: 0.505459 — val_precision: 0.703829 — val_recall 0.394322\n",
      "Epoch 10/50\n",
      "6792/6792 [==============================] - 8s 1ms/step - loss: 0.2032 - acc: 0.9230 - val_loss: 0.2167 - val_acc: 0.9205\n",
      "val_f1: 0.508391 — val_precision: 0.723776 — val_recall 0.391798\n",
      "Epoch 11/50\n",
      "6792/6792 [==============================] - 8s 1ms/step - loss: 0.1989 - acc: 0.9247 - val_loss: 0.2183 - val_acc: 0.9182\n",
      "val_f1: 0.494474 — val_precision: 0.703963 — val_recall 0.381073\n",
      "Epoch 12/50\n",
      "6792/6792 [==============================] - 8s 1ms/step - loss: 0.1937 - acc: 0.9262 - val_loss: 0.2183 - val_acc: 0.9187\n",
      "val_f1: 0.525705 — val_precision: 0.678643 — val_recall 0.429022\n",
      "Epoch 13/50\n",
      "6792/6792 [==============================] - 8s 1ms/step - loss: 0.1892 - acc: 0.9272 - val_loss: 0.2189 - val_acc: 0.9195\n",
      "val_f1: 0.524089 — val_precision: 0.691116 — val_recall 0.422082\n",
      "Epoch 14/50\n",
      "6792/6792 [==============================] - 8s 1ms/step - loss: 0.1846 - acc: 0.9295 - val_loss: 0.2201 - val_acc: 0.9201\n",
      "val_f1: 0.509549 — val_precision: 0.715753 — val_recall 0.395584\n",
      "Epoch 15/50\n",
      "6792/6792 [==============================] - 8s 1ms/step - loss: 0.1810 - acc: 0.9300 - val_loss: 0.2209 - val_acc: 0.9190\n",
      "val_f1: 0.527981 — val_precision: 0.679920 — val_recall 0.431546\n",
      "Epoch 16/50\n",
      "6792/6792 [==============================] - 8s 1ms/step - loss: 0.1746 - acc: 0.9328 - val_loss: 0.2226 - val_acc: 0.9195\n",
      "val_f1: 0.505897 — val_precision: 0.711670 — val_recall 0.392429\n",
      "Epoch 17/50\n",
      "6792/6792 [==============================] - 9s 1ms/step - loss: 0.1697 - acc: 0.9343 - val_loss: 0.2222 - val_acc: 0.9187\n",
      "val_f1: 0.526600 — val_precision: 0.676908 — val_recall 0.430915\n",
      "Epoch 18/50\n",
      "6792/6792 [==============================] - 9s 1ms/step - loss: 0.1647 - acc: 0.9363 - val_loss: 0.2253 - val_acc: 0.9185\n",
      "val_f1: 0.523994 — val_precision: 0.677678 — val_recall 0.427129\n",
      "Epoch 19/50\n",
      "6792/6792 [==============================] - 8s 1ms/step - loss: 0.1601 - acc: 0.9383 - val_loss: 0.2294 - val_acc: 0.9157\n",
      "val_f1: 0.528693 — val_precision: 0.639785 — val_recall 0.450473\n",
      "Epoch 20/50\n",
      "6792/6792 [==============================] - 8s 1ms/step - loss: 0.1545 - acc: 0.9405 - val_loss: 0.2301 - val_acc: 0.9172\n",
      "val_f1: 0.524154 — val_precision: 0.659962 — val_recall 0.434700\n",
      "Epoch 21/50\n",
      "6792/6792 [==============================] - 8s 1ms/step - loss: 0.1510 - acc: 0.9418 - val_loss: 0.2310 - val_acc: 0.9160\n",
      "val_f1: 0.527374 — val_precision: 0.643636 — val_recall 0.446688\n",
      "Epoch 22/50\n",
      "6792/6792 [==============================] - 8s 1ms/step - loss: 0.1445 - acc: 0.9444 - val_loss: 0.2351 - val_acc: 0.9162\n",
      "val_f1: 0.520652 — val_precision: 0.651803 — val_recall 0.433438\n",
      "Epoch 23/50\n",
      "6792/6792 [==============================] - 8s 1ms/step - loss: 0.1390 - acc: 0.9457 - val_loss: 0.2383 - val_acc: 0.9146\n",
      "val_f1: 0.522222 — val_precision: 0.632287 — val_recall 0.444795\n",
      "Epoch 24/50\n",
      "6792/6792 [==============================] - 8s 1ms/step - loss: 0.1340 - acc: 0.9481 - val_loss: 0.2414 - val_acc: 0.9141\n",
      "val_f1: 0.512955 — val_precision: 0.633581 — val_recall 0.430915\n",
      "Epoch 25/50\n",
      "6792/6792 [==============================] - 9s 1ms/step - loss: 0.1297 - acc: 0.9499 - val_loss: 0.2480 - val_acc: 0.9129\n",
      "val_f1: 0.507675 — val_precision: 0.624309 — val_recall 0.427760\n",
      "Epoch 26/50\n",
      "6792/6792 [==============================] - 8s 1ms/step - loss: 0.1246 - acc: 0.9517 - val_loss: 0.2483 - val_acc: 0.9144\n",
      "val_f1: 0.516997 — val_precision: 0.633700 — val_recall 0.436593\n",
      "Epoch 27/50\n",
      "6792/6792 [==============================] - 8s 1ms/step - loss: 0.1183 - acc: 0.9545 - val_loss: 0.2505 - val_acc: 0.9140\n",
      "val_f1: 0.520841 — val_precision: 0.626998 — val_recall 0.445426\n",
      "Epoch 28/50\n",
      "6792/6792 [==============================] - 8s 1ms/step - loss: 0.1142 - acc: 0.9561 - val_loss: 0.2556 - val_acc: 0.9121\n",
      "val_f1: 0.509239 — val_precision: 0.614630 — val_recall 0.434700\n",
      "Epoch 29/50\n",
      "6792/6792 [==============================] - 9s 1ms/step - loss: 0.1089 - acc: 0.9583 - val_loss: 0.2602 - val_acc: 0.9125\n",
      "val_f1: 0.517355 — val_precision: 0.614583 — val_recall 0.446688\n",
      "Epoch 30/50\n",
      "6792/6792 [==============================] - 8s 1ms/step - loss: 0.1048 - acc: 0.9598 - val_loss: 0.2642 - val_acc: 0.9132\n",
      "val_f1: 0.510638 — val_precision: 0.625229 — val_recall 0.431546\n",
      "Epoch 31/50\n",
      "6792/6792 [==============================] - 8s 1ms/step - loss: 0.0990 - acc: 0.9625 - val_loss: 0.2674 - val_acc: 0.9133\n",
      "val_f1: 0.524864 — val_precision: 0.617949 — val_recall 0.456151\n",
      "Epoch 32/50\n",
      "6792/6792 [==============================] - 8s 1ms/step - loss: 0.0961 - acc: 0.9635 - val_loss: 0.2713 - val_acc: 0.9111\n",
      "val_f1: 0.502777 — val_precision: 0.608423 — val_recall 0.428391\n",
      "Epoch 33/50\n",
      "6792/6792 [==============================] - 9s 1ms/step - loss: 0.0910 - acc: 0.9660 - val_loss: 0.2772 - val_acc: 0.9112\n",
      "val_f1: 0.504251 — val_precision: 0.608929 — val_recall 0.430284\n",
      "Epoch 34/50\n",
      "6792/6792 [==============================] - 8s 1ms/step - loss: 0.0885 - acc: 0.9665 - val_loss: 0.2794 - val_acc: 0.9091\n",
      "val_f1: 0.511214 — val_precision: 0.586601 — val_recall 0.452997\n",
      "Epoch 35/50\n",
      "6792/6792 [==============================] - 8s 1ms/step - loss: 0.0825 - acc: 0.9691 - val_loss: 0.2840 - val_acc: 0.9096\n",
      "val_f1: 0.511628 — val_precision: 0.590909 — val_recall 0.451104\n",
      "Epoch 36/50\n",
      "6792/6792 [==============================] - 8s 1ms/step - loss: 0.0802 - acc: 0.9703 - val_loss: 0.2886 - val_acc: 0.9074\n",
      "val_f1: 0.502666 — val_precision: 0.575733 — val_recall 0.446057\n",
      "Epoch 37/50\n",
      "6792/6792 [==============================] - 9s 1ms/step - loss: 0.0788 - acc: 0.9708 - val_loss: 0.2933 - val_acc: 0.9098\n",
      "val_f1: 0.505447 — val_precision: 0.595381 — val_recall 0.439117\n",
      "Epoch 38/50\n",
      "6792/6792 [==============================] - 8s 1ms/step - loss: 0.0748 - acc: 0.9726 - val_loss: 0.2999 - val_acc: 0.9109\n",
      "val_f1: 0.500742 — val_precision: 0.607561 — val_recall 0.425868\n",
      "Epoch 39/50\n",
      "6792/6792 [==============================] - 9s 1ms/step - loss: 0.0710 - acc: 0.9741 - val_loss: 0.2958 - val_acc: 0.9103\n",
      "val_f1: 0.515206 — val_precision: 0.595041 — val_recall 0.454259\n",
      "Epoch 40/50\n",
      "6792/6792 [==============================] - 9s 1ms/step - loss: 0.0667 - acc: 0.9763 - val_loss: 0.3081 - val_acc: 0.9107\n",
      "val_f1: 0.502398 — val_precision: 0.604796 — val_recall 0.429653\n",
      "Epoch 41/50\n",
      "6792/6792 [==============================] - 8s 1ms/step - loss: 0.0657 - acc: 0.9767 - val_loss: 0.3101 - val_acc: 0.9079\n",
      "val_f1: 0.511938 — val_precision: 0.577197 — val_recall 0.459937\n",
      "Epoch 42/50\n"
     ]
    },
    {
     "name": "stdout",
     "output_type": "stream",
     "text": [
      "6792/6792 [==============================] - 8s 1ms/step - loss: 0.0625 - acc: 0.9780 - val_loss: 0.3206 - val_acc: 0.9099\n",
      "val_f1: 0.505814 — val_precision: 0.596401 — val_recall 0.439117\n",
      "Epoch 43/50\n",
      "6792/6792 [==============================] - 8s 1ms/step - loss: 0.0588 - acc: 0.9791 - val_loss: 0.3259 - val_acc: 0.9093\n",
      "val_f1: 0.507731 — val_precision: 0.590301 — val_recall 0.445426\n",
      "Epoch 44/50\n",
      "6792/6792 [==============================] - 8s 1ms/step - loss: 0.0576 - acc: 0.9797 - val_loss: 0.3270 - val_acc: 0.9093\n",
      "Epoch 43: early stopping by F1\n",
      "val_f1: 0.498351 — val_precision: 0.594406 — val_recall 0.429022\n"
     ]
    }
   ],
   "source": [
    "gru_model_1_history = gru_model_1.fit(first_model_train_set_input, first_model_train_set_y_true, validation_split=0.1, batch_size=128, epochs=50, callbacks=gru_model_1_metrics)"
   ]
  },
  {
   "cell_type": "code",
   "execution_count": 117,
   "metadata": {},
   "outputs": [],
   "source": [
    "gru_model_1.load_weights(gru_model_1_weights_path)\n",
    "gru_model_1_test_set_y_pred = get_output(gru_model_1.predict(first_model_test_set_input), OUTPUT_ACTIVATION_THRESHOLD)\n",
    "gru_model_1_test_set_precision, gru_model_1_test_set_recall, gru_model_1_test_set_f1, support = precision_recall_fscore_support(first_model_test_set_y_true, gru_model_1_test_set_y_pred, average=\"micro\")"
   ]
  },
  {
   "cell_type": "code",
   "execution_count": 121,
   "metadata": {},
   "outputs": [
    {
     "data": {
      "image/png": "[encoded data removed]",
      "text/plain": [
       "<Figure size 432x288 with 1 Axes>"
      ]
     },
     "metadata": {},
     "output_type": "display_data"
    }
   ],
   "source": [
    "GRU_MODEL_1_COLOR = \"#f4b942\"\n",
    "\n",
    "colors = [REFERENCE_MODEL_COLOR, FIRST_MODEL_COLOR, GRU_MODEL_1_COLOR, SECOND_MODEL_COLOR, THIRD_MODEL_COLOR, FOURTH_MODEL_COLOR]\n",
    "\n",
    "labels = [\"Precision Reference Model\", \"Precision LSTM 1\", \"Precision GRU 1\", \"Precision LSTM 2\", \"Precision LSTM 3\", \"Precision LSTM 4\"]\n",
    "data = [reference_model_test_set_precision, first_model_test_set_precision, gru_model_1_test_set_precision, second_model_test_set_precision, third_model_test_set_precision, fourth_model_test_set_precision]\n",
    "title = \"Precision on Test Set data.\"\n",
    "plot_barchart(labels, data, title, colors=colors)"
   ]
  },
  {
   "cell_type": "code",
   "execution_count": 122,
   "metadata": {},
   "outputs": [
    {
     "data": {
      "image/png": "[encoded data removed]",
      "text/plain": [
       "<Figure size 432x288 with 1 Axes>"
      ]
     },
     "metadata": {},
     "output_type": "display_data"
    }
   ],
   "source": [
    "labels = [\"Recall Reference Model\", \"Recall LSTM 1\", \"Recall GRU 1\", \"Recall LSTM 2\", \"Recall LSTM 3\", \"Recall LSTM 4\"]\n",
    "data = [reference_model_test_set_recall, first_model_test_set_recall, gru_model_1_test_set_recall, second_model_test_set_recall, third_model_test_set_recall, fourth_model_test_set_recall]\n",
    "title = \"Recall on Test Set data.\"\n",
    "plot_barchart(labels, data, title, colors=colors)"
   ]
  },
  {
   "cell_type": "code",
   "execution_count": 124,
   "metadata": {},
   "outputs": [
    {
     "data": {
      "image/png": "[encoded data removed]",
      "text/plain": [
       "<Figure size 432x288 with 1 Axes>"
      ]
     },
     "metadata": {},
     "output_type": "display_data"
    }
   ],
   "source": [
    "labels = [\"F1 Score Reference Model\", \"F1 Score LSTM 1\", \"F1 Score GRU 1\", \"F1 Score LSTM 2\", \"F1 Score LSTM 3\", \"F1 Score LSTM 4\"]\n",
    "data = [reference_model_test_set_f1, first_model_test_set_f1, gru_model_1_test_set_f1, second_model_test_set_f1, third_model_test_set_f1, fourth_model_test_set_f1]\n",
    "title = \"F1 Score on Test Set data.\"\n",
    "plot_barchart(labels, data, title, colors=colors)"
   ]
  },
  {
   "cell_type": "code",
   "execution_count": 125,
   "metadata": {},
   "outputs": [
    {
     "name": "stdout",
     "output_type": "stream",
     "text": [
      "_________________________________________________________________\n",
      "Layer (type)                 Output Shape              Param #   \n",
      "=================================================================\n",
      "input_7 (InputLayer)         (None, 100)               0         \n",
      "_________________________________________________________________\n",
      "embedding_8 (Embedding)      (None, 100, 300)          18410700  \n",
      "_________________________________________________________________\n",
      "gru_3 (GRU)                  (None, 300)               540900    \n",
      "_________________________________________________________________\n",
      "dense_7 (Dense)              (None, 20)                6020      \n",
      "=================================================================\n",
      "Total params: 18,957,620\n",
      "Trainable params: 546,920\n",
      "Non-trainable params: 18,410,700\n",
      "_________________________________________________________________\n"
     ]
    }
   ],
   "source": [
    "gru_model_2 = get_model_gru(my_vocabulary_abstract, MAX_SENTENCE_LEN, VECTOR_DIMENSION, TOP_N_TAGS, embedding_matrix_2)\n",
    "gru_model_2.summary()"
   ]
  },
  {
   "cell_type": "code",
   "execution_count": 126,
   "metadata": {},
   "outputs": [],
   "source": [
    "gru_model_2_weights_path = \"gru_model_2_weights.hdf5\"\n",
    "gru_model_2_early_stop_by_f1 = EarlyStopByF1(OUTPUT_ACTIVATION_THRESHOLD, F1_PATIENCE, F1_BETA, gru_model_2_weights_path)\n",
    "gru_model_2_metrics = [gru_model_2_early_stop_by_f1]"
   ]
  },
  {
   "cell_type": "code",
   "execution_count": 127,
   "metadata": {},
   "outputs": [
    {
     "name": "stdout",
     "output_type": "stream",
     "text": [
      "Train on 6792 samples, validate on 755 samples\n",
      "Epoch 1/50\n",
      "6792/6792 [==============================] - 38s 6ms/step - loss: 0.3617 - acc: 0.8740 - val_loss: 0.2955 - val_acc: 0.8947\n",
      "val_f1: 0.064706 — val_precision: 0.478261 — val_recall 0.034700\n",
      "Epoch 2/50\n",
      "6792/6792 [==============================] - 39s 6ms/step - loss: 0.2740 - acc: 0.8970 - val_loss: 0.2514 - val_acc: 0.9076\n",
      "val_f1: 0.319844 — val_precision: 0.703863 — val_recall 0.206940\n",
      "Epoch 3/50\n",
      "6792/6792 [==============================] - 38s 6ms/step - loss: 0.2451 - acc: 0.9060 - val_loss: 0.2357 - val_acc: 0.9125\n",
      "val_f1: 0.449354 — val_precision: 0.662162 — val_recall 0.340063\n",
      "Epoch 4/50\n",
      "6792/6792 [==============================] - 37s 5ms/step - loss: 0.2317 - acc: 0.9107 - val_loss: 0.2258 - val_acc: 0.9149\n",
      "val_f1: 0.474438 — val_precision: 0.674419 — val_recall 0.365931\n",
      "Epoch 5/50\n",
      "6792/6792 [==============================] - 39s 6ms/step - loss: 0.2234 - acc: 0.9132 - val_loss: 0.2250 - val_acc: 0.9144\n",
      "val_f1: 0.489538 — val_precision: 0.654008 — val_recall 0.391167\n",
      "Epoch 6/50\n",
      "6792/6792 [==============================] - 42s 6ms/step - loss: 0.2171 - acc: 0.9151 - val_loss: 0.2227 - val_acc: 0.9175\n",
      "val_f1: 0.516880 — val_precision: 0.671371 — val_recall 0.420189\n",
      "Epoch 7/50\n",
      "6792/6792 [==============================] - 40s 6ms/step - loss: 0.2112 - acc: 0.9172 - val_loss: 0.2171 - val_acc: 0.9190\n",
      "val_f1: 0.522825 — val_precision: 0.685072 — val_recall 0.422713\n",
      "Epoch 8/50\n",
      "6792/6792 [==============================] - 39s 6ms/step - loss: 0.2061 - acc: 0.9191 - val_loss: 0.2155 - val_acc: 0.9187\n",
      "val_f1: 0.527895 — val_precision: 0.676529 — val_recall 0.432808\n",
      "Epoch 9/50\n",
      "6792/6792 [==============================] - 40s 6ms/step - loss: 0.2025 - acc: 0.9204 - val_loss: 0.2149 - val_acc: 0.9192\n",
      "val_f1: 0.538229 — val_precision: 0.672658 — val_recall 0.448580\n",
      "Epoch 10/50\n",
      "6792/6792 [==============================] - 40s 6ms/step - loss: 0.1977 - acc: 0.9224 - val_loss: 0.2142 - val_acc: 0.9203\n",
      "val_f1: 0.546687 — val_precision: 0.677871 — val_recall 0.458044\n",
      "Epoch 11/50\n",
      "6792/6792 [==============================] - 40s 6ms/step - loss: 0.1938 - acc: 0.9236 - val_loss: 0.2143 - val_acc: 0.9172\n",
      "val_f1: 0.536495 — val_precision: 0.649910 — val_recall 0.456782\n",
      "Epoch 12/50\n",
      "6792/6792 [==============================] - 40s 6ms/step - loss: 0.1891 - acc: 0.9253 - val_loss: 0.2157 - val_acc: 0.9184\n",
      "val_f1: 0.543027 — val_precision: 0.658866 — val_recall 0.461830\n",
      "Epoch 13/50\n",
      "6792/6792 [==============================] - 42s 6ms/step - loss: 0.1849 - acc: 0.9269 - val_loss: 0.2134 - val_acc: 0.9188\n",
      "val_f1: 0.546262 — val_precision: 0.660698 — val_recall 0.465615\n",
      "Epoch 14/50\n",
      "6792/6792 [==============================] - 40s 6ms/step - loss: 0.1801 - acc: 0.9291 - val_loss: 0.2139 - val_acc: 0.9187\n",
      "val_f1: 0.549725 — val_precision: 0.657018 — val_recall 0.472555\n",
      "Epoch 15/50\n",
      "6792/6792 [==============================] - 39s 6ms/step - loss: 0.1761 - acc: 0.9304 - val_loss: 0.2156 - val_acc: 0.9197\n",
      "val_f1: 0.540008 — val_precision: 0.676806 — val_recall 0.449211\n",
      "Epoch 16/50\n",
      "6792/6792 [==============================] - 40s 6ms/step - loss: 0.1725 - acc: 0.9315 - val_loss: 0.2169 - val_acc: 0.9179\n",
      "val_f1: 0.542298 — val_precision: 0.654189 — val_recall 0.463091\n",
      "Epoch 17/50\n",
      "6792/6792 [==============================] - 41s 6ms/step - loss: 0.1665 - acc: 0.9343 - val_loss: 0.2163 - val_acc: 0.9201\n",
      "val_f1: 0.553128 — val_precision: 0.669355 — val_recall 0.471293\n",
      "Epoch 18/50\n",
      "6792/6792 [==============================] - 41s 6ms/step - loss: 0.1619 - acc: 0.9360 - val_loss: 0.2226 - val_acc: 0.9162\n",
      "val_f1: 0.553597 — val_precision: 0.627498 — val_recall 0.495268\n",
      "Epoch 19/50\n",
      "6792/6792 [==============================] - 40s 6ms/step - loss: 0.1568 - acc: 0.9374 - val_loss: 0.2197 - val_acc: 0.9181\n",
      "val_f1: 0.545922 — val_precision: 0.653474 — val_recall 0.468770\n",
      "Epoch 20/50\n",
      "6792/6792 [==============================] - 40s 6ms/step - loss: 0.1507 - acc: 0.9403 - val_loss: 0.2236 - val_acc: 0.9166\n",
      "val_f1: 0.547610 — val_precision: 0.636060 — val_recall 0.480757\n",
      "Epoch 21/50\n",
      "6792/6792 [==============================] - 40s 6ms/step - loss: 0.1455 - acc: 0.9428 - val_loss: 0.2291 - val_acc: 0.9152\n",
      "val_f1: 0.550369 — val_precision: 0.620253 — val_recall 0.494637\n",
      "Epoch 22/50\n",
      "6792/6792 [==============================] - 40s 6ms/step - loss: 0.1408 - acc: 0.9442 - val_loss: 0.2298 - val_acc: 0.9174\n",
      "val_f1: 0.557645 — val_precision: 0.636953 — val_recall 0.495899\n",
      "Epoch 23/50\n",
      "6792/6792 [==============================] - 41s 6ms/step - loss: 0.1365 - acc: 0.9459 - val_loss: 0.2326 - val_acc: 0.9158\n",
      "val_f1: 0.546881 — val_precision: 0.628689 — val_recall 0.483912\n",
      "Epoch 24/50\n",
      "6792/6792 [==============================] - 39s 6ms/step - loss: 0.1310 - acc: 0.9485 - val_loss: 0.2383 - val_acc: 0.9129\n",
      "val_f1: 0.543561 — val_precision: 0.604167 — val_recall 0.494006\n",
      "Epoch 25/50\n",
      "6792/6792 [==============================] - 36s 5ms/step - loss: 0.1274 - acc: 0.9502 - val_loss: 0.2407 - val_acc: 0.9119\n",
      "val_f1: 0.530842 — val_precision: 0.601438 — val_recall 0.475079\n",
      "Epoch 26/50\n",
      "6792/6792 [==============================] - 37s 5ms/step - loss: 0.1206 - acc: 0.9527 - val_loss: 0.2471 - val_acc: 0.9126\n",
      "val_f1: 0.542620 — val_precision: 0.601845 — val_recall 0.494006\n",
      "Epoch 27/50\n",
      "6792/6792 [==============================] - 38s 6ms/step - loss: 0.1162 - acc: 0.9552 - val_loss: 0.2524 - val_acc: 0.9120\n",
      "val_f1: 0.545019 — val_precision: 0.595808 — val_recall 0.502208\n",
      "Epoch 28/50\n",
      "6792/6792 [==============================] - 38s 6ms/step - loss: 0.1126 - acc: 0.9560 - val_loss: 0.2537 - val_acc: 0.9103\n",
      "val_f1: 0.536301 — val_precision: 0.586517 — val_recall 0.494006\n",
      "Epoch 29/50\n",
      "6792/6792 [==============================] - 37s 5ms/step - loss: 0.1076 - acc: 0.9582 - val_loss: 0.2578 - val_acc: 0.9105\n",
      "val_f1: 0.535260 — val_precision: 0.588502 — val_recall 0.490852\n",
      "Epoch 30/50\n",
      "6792/6792 [==============================] - 38s 6ms/step - loss: 0.1051 - acc: 0.9590 - val_loss: 0.2641 - val_acc: 0.9104\n",
      "val_f1: 0.538068 — val_precision: 0.586310 — val_recall 0.497161\n",
      "Epoch 31/50\n",
      "6792/6792 [==============================] - 37s 5ms/step - loss: 0.0997 - acc: 0.9610 - val_loss: 0.2669 - val_acc: 0.9105\n",
      "val_f1: 0.529432 — val_precision: 0.590980 — val_recall 0.479495\n",
      "Epoch 32/50\n",
      "6792/6792 [==============================] - 37s 5ms/step - loss: 0.0968 - acc: 0.9629 - val_loss: 0.2747 - val_acc: 0.9107\n",
      "val_f1: 0.543978 — val_precision: 0.586433 — val_recall 0.507256\n",
      "Epoch 33/50\n",
      "6792/6792 [==============================] - 37s 5ms/step - loss: 0.0915 - acc: 0.9645 - val_loss: 0.2810 - val_acc: 0.9088\n",
      "val_f1: 0.547486 — val_precision: 0.571331 — val_recall 0.525552\n",
      "Epoch 34/50\n",
      "6792/6792 [==============================] - 36s 5ms/step - loss: 0.0925 - acc: 0.9646 - val_loss: 0.2808 - val_acc: 0.9089\n",
      "val_f1: 0.542125 — val_precision: 0.574048 — val_recall 0.513565\n",
      "Epoch 35/50\n",
      "6792/6792 [==============================] - 38s 6ms/step - loss: 0.0847 - acc: 0.9677 - val_loss: 0.2850 - val_acc: 0.9087\n",
      "val_f1: 0.530153 — val_precision: 0.576296 — val_recall 0.490852\n",
      "Epoch 36/50\n",
      "6792/6792 [==============================] - 38s 6ms/step - loss: 0.0811 - acc: 0.9696 - val_loss: 0.2902 - val_acc: 0.9085\n",
      "Epoch 35: early stopping by F1\n",
      "val_f1: 0.524613 — val_precision: 0.577273 — val_recall 0.480757\n"
     ]
    }
   ],
   "source": [
    "gru_model_2_history = gru_model_2.fit(second_model_train_set_input, second_model_train_set_y_true, validation_split=0.1, batch_size=128, epochs=50, callbacks=gru_model_2_metrics)"
   ]
  },
  {
   "cell_type": "code",
   "execution_count": 128,
   "metadata": {},
   "outputs": [],
   "source": [
    "gru_model_2.load_weights(gru_model_2_weights_path)\n",
    "gru_model_2_test_set_y_pred = get_output(gru_model_2.predict(second_model_test_set_input), OUTPUT_ACTIVATION_THRESHOLD)\n",
    "gru_model_2_test_set_precision, gru_model_2_test_set_recall, gru_model_2_test_set_f1, support = precision_recall_fscore_support(second_model_test_set_y_true, gru_model_2_test_set_y_pred, average=\"micro\")"
   ]
  },
  {
   "cell_type": "code",
   "execution_count": 132,
   "metadata": {},
   "outputs": [
    {
     "data": {
      "image/png": "[encoded data removed]",
      "text/plain": [
       "<Figure size 432x288 with 1 Axes>"
      ]
     },
     "metadata": {},
     "output_type": "display_data"
    }
   ],
   "source": [
    "GRU_MODEL_2_COLOR = \"#7be074\"\n",
    "\n",
    "colors = [REFERENCE_MODEL_COLOR, FIRST_MODEL_COLOR, GRU_MODEL_1_COLOR, SECOND_MODEL_COLOR, GRU_MODEL_2_COLOR, THIRD_MODEL_COLOR, FOURTH_MODEL_COLOR]\n",
    "\n",
    "labels = [\"Precision Reference Model\", \"Precision LSTM 1\", \"Precision GRU 1\", \"Precision LSTM 2\", \"Precision GRU 2\", \"Precision LSTM 3\", \"Precision LSTM 4\"]\n",
    "data = [reference_model_test_set_precision, first_model_test_set_precision, gru_model_1_test_set_precision, second_model_test_set_precision, gru_model_2_test_set_precision, third_model_test_set_precision, fourth_model_test_set_precision]\n",
    "title = \"Precision on Test Set data.\"\n",
    "plot_barchart(labels, data, title, colors=colors)"
   ]
  },
  {
   "cell_type": "code",
   "execution_count": 133,
   "metadata": {},
   "outputs": [
    {
     "data": {
      "image/png": "[encoded data removed]",
      "text/plain": [
       "<Figure size 432x288 with 1 Axes>"
      ]
     },
     "metadata": {},
     "output_type": "display_data"
    }
   ],
   "source": [
    "labels = [\"Recall Reference Model\", \"Recall LSTM 1\", \"Recall GRU 1\", \"Recall LSTM 2\",\"Recall GRU 2\", \"Recall LSTM 3\", \"Recall LSTM 4\"]\n",
    "data = [reference_model_test_set_recall, first_model_test_set_recall, gru_model_1_test_set_recall, second_model_test_set_recall, gru_model_2_test_set_recall, third_model_test_set_recall, fourth_model_test_set_recall]\n",
    "title = \"Recall on Test Set data.\"\n",
    "plot_barchart(labels, data, title, colors=colors)"
   ]
  },
  {
   "cell_type": "code",
   "execution_count": 134,
   "metadata": {},
   "outputs": [
    {
     "data": {
      "image/png": "[encoded data removed]",
      "text/plain": [
       "<Figure size 432x288 with 1 Axes>"
      ]
     },
     "metadata": {},
     "output_type": "display_data"
    }
   ],
   "source": [
    "labels = [\"F1 Score Reference Model\", \"F1 Score LSTM 1\", \"F1 Score GRU 1\", \"F1 Score LSTM 2\", \"F1 Score GRU 2\", \"F1 Score LSTM 3\", \"F1 Score LSTM 4\"]\n",
    "data = [reference_model_test_set_f1, first_model_test_set_f1, gru_model_1_test_set_f1, second_model_test_set_f1, gru_model_2_test_set_f1, third_model_test_set_f1, fourth_model_test_set_f1]\n",
    "title = \"F1 Score on Test Set data.\"\n",
    "plot_barchart(labels, data, title, colors=colors)"
   ]
  },
  {
   "cell_type": "code",
   "execution_count": null,
   "metadata": {},
   "outputs": [],
   "source": [
    "gru_model_3 = get_model_gru(my_vocabulary_abstract, MAX_SENTENCE_LEN, VECTOR_DIMENSION, TOP_N_TAGS, embedding_matrix_3)\n",
    "gru_model_3.summary()"
   ]
  },
  {
   "cell_type": "code",
   "execution_count": null,
   "metadata": {},
   "outputs": [],
   "source": [
    "gru_model_3_weights_path = \"gru_model_3_weights.hdf5\"\n",
    "gru_model_3_early_stop_by_f1 = EarlyStopByF1(OUTPUT_ACTIVATION_THRESHOLD, F1_PATIENCE, F1_BETA, gru_model_3_weights_path)\n",
    "gru_model_3_metrics = [gru_model_3_early_stop_by_f1]"
   ]
  },
  {
   "cell_type": "code",
   "execution_count": null,
   "metadata": {},
   "outputs": [],
   "source": [
    "gru_model_3.load_weights(gru_model_3_weights_path)\n",
    "gru_model_3_test_set_y_pred = get_output(gru_model_3.predict(third_model_test_set_input), OUTPUT_ACTIVATION_THRESHOLD)\n",
    "gru_model_3_test_set_precision, gru_model_3_test_set_recall, gru_model_3_test_set_f1, support = precision_recall_fscore_support(third_model_test_set_y_true, gru_model_3_test_set_y_pred, average=\"micro\")"
   ]
  },
  {
   "cell_type": "code",
   "execution_count": null,
   "metadata": {},
   "outputs": [],
   "source": [
    "GRU_MODEL_3_COLOR = \"#f4b942\"\n",
    "\n",
    "colors = [REFERENCE_MODEL_COLOR, FIRST_MODEL_COLOR, GRU_MODEL_1_COLOR, SECOND_MODEL_COLOR, GRU_MODEL_2_COLOR, THIRD_MODEL_COLOR, GRU_MODEL_3_COLOR, FOURTH_MODEL_COLOR]\n",
    "\n",
    "labels = [\"Precision Reference Model\", \"Precision LSTM 1\", \"Precision GRU 1\", \"Precision LSTM 2\", \"Precision GRU 2\", \"Precision LSTM 3\", \"Precision GRU 3\", \"Precision LSTM 4\"]\n",
    "data = [reference_model_test_set_precision, first_model_test_set_precision, gru_model_1_test_set_precision, second_model_test_set_precision, gru_model_2_test_set_precision, third_model_test_set_precision, gru_model_3_test_set_precision, fourth_model_test_set_precision]\n",
    "title = \"Precision on Test Set data.\"\n",
    "plot_barchart(labels, data, title, colors=colors)"
   ]
  },
  {
   "cell_type": "code",
   "execution_count": null,
   "metadata": {},
   "outputs": [],
   "source": [
    "labels = [\"Recall Reference Model\", \"Recall LSTM 1\", \"Recall GRU 1\", \"Recall LSTM 2\",\"Recall GRU 2\", \"Recall LSTM 3\", \"Recall LSTM 4\"]\n",
    "data = [reference_model_test_set_recall, first_model_test_set_recall, gru_model_1_test_set_recall, second_model_test_set_recall, gru_model_2_test_set_recall, third_model_test_set_recall, gru_model_3_test_set_recall, fourth_model_test_set_recall]\n",
    "title = \"Recall on Test Set data.\"\n",
    "plot_barchart(labels, data, title, colors=colors)"
   ]
  },
  {
   "cell_type": "code",
   "execution_count": null,
   "metadata": {},
   "outputs": [],
   "source": [
    "labels = [\"F1 Score Reference Model\", \"F1 Score LSTM 1\", \"F1 Score GRU 1\", \"F1 Score LSTM 2\", \"F1 Score LSTM 3\", \"F1 Score LSTM 4\"]\n",
    "data = [reference_model_test_set_f1, first_model_test_set_f1, gru_model_1_test_set_f1, second_model_test_set_f1, gru_model_2_test_set_recall, third_model_test_set_f1, gru_model_3_test_set_f1, fourth_model_test_set_f1]\n",
    "title = \"F1 Score on Test Set data.\"\n",
    "plot_barchart(labels, data, title, colors=colors)"
   ]
  }
 ],
 "metadata": {
  "kernelspec": {
   "display_name": "Python 2",
   "language": "python",
   "name": "python2"
  },
  "language_info": {
   "codemirror_mode": {
    "name": "ipython",
    "version": 2
   },
   "file_extension": ".py",
   "mimetype": "text/x-python",
   "name": "python",
   "nbconvert_exporter": "python",
   "pygments_lexer": "ipython2",
   "version": "2.7.15"
  }
 },
 "nbformat": 4,
 "nbformat_minor": 2
}
